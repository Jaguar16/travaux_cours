{
 "cells": [
  {
   "cell_type": "markdown",
   "metadata": {},
   "source": [
    "# TP 8 : Récursion et programmation dynamique"
   ]
  },
  {
   "cell_type": "markdown",
   "metadata": {},
   "source": [
    "## 8.1 Récursion (exercice de programmation de L1)"
   ]
  },
  {
   "cell_type": "markdown",
   "metadata": {},
   "source": [
    "On considère la suite définie par récurrence:\n",
    "$$\\left\\{\\begin{array}{l}u(0)=2\\\\u(n)=\\frac{u(n-1)}{2}+3\\end{array}\\right.$$"
   ]
  },
  {
   "cell_type": "markdown",
   "metadata": {},
   "source": [
    "1. Programmez la suite de manière récursive:"
   ]
  },
  {
   "cell_type": "markdown",
   "metadata": {},
   "source": [
    "2. Programmez la suite de manière itérative:"
   ]
  },
  {
   "cell_type": "markdown",
   "metadata": {},
   "source": [
    "3. Calculez et affichez la liste des 10 premières valeurs de $(u_n)$. Quel est le coût du calcul des termes de la suite en fonction de $n$?"
   ]
  },
  {
   "cell_type": "code",
   "execution_count": 9,
   "metadata": {},
   "outputs": [
    {
     "data": {
      "text/plain": [
       "[2, 4.0, 5.0, 5.5, 5.75, 5.875, 5.9375, 5.96875, 5.984375, 5.9921875]"
      ]
     },
     "execution_count": 9,
     "metadata": {},
     "output_type": "execute_result"
    }
   ],
   "source": [
    "[ui(i) for i in range(10)]"
   ]
  },
  {
   "cell_type": "markdown",
   "metadata": {},
   "source": [
    "4. Reprogrammez cette fonction en utilisant la technique de memoisation (programmation dynamique)"
   ]
  },
  {
   "cell_type": "markdown",
   "metadata": {},
   "source": [
    "5. Reprogrammez cette fonction par la technique des générateurs"
   ]
  },
  {
   "cell_type": "markdown",
   "metadata": {},
   "source": [
    "6. Comparez la complexité de ces différentes méthodes en traçant les courbes de complexité"
   ]
  },
  {
   "cell_type": "markdown",
   "metadata": {},
   "source": [
    "## 8.2 Calcul des coefficients binomiaux"
   ]
  },
  {
   "cell_type": "markdown",
   "metadata": {},
   "source": [
    "On rappelle que $C_n^p=C_{n-1}^p+C_{n-1}^{p-1}$. On souhaite calculer la fonction `binomial(n,p)` qui calcule $C_n^p$. Les cas particuliers sont $C_n^0=C_n^n=1$ (et $C_1^1=1$)"
   ]
  },
  {
   "cell_type": "markdown",
   "metadata": {},
   "source": [
    "1. Programmez `binomial(n,p)` de façon récursive:"
   ]
  },
  {
   "cell_type": "markdown",
   "metadata": {},
   "source": [
    "2. Programmez `binomial(n,p)` en utilisant la programmation dynamique:"
   ]
  },
  {
   "cell_type": "markdown",
   "metadata": {},
   "source": [
    "3. Programmez `binomial(n,p)` en utilisant la formule la factorielle `factorial` de `Sympy` $$C_n^p=\\frac{n!}{p!(n-p)!}$$"
   ]
  },
  {
   "cell_type": "markdown",
   "metadata": {},
   "source": [
    "4. Pensez-vous pouvoir calculer `binomial(n,p)` au moyen de generateurs?"
   ]
  },
  {
   "cell_type": "markdown",
   "metadata": {},
   "source": [
    "5. [facultatif] Comparez les complexités obtenues (attention, il y a deux paramètres !)"
   ]
  },
  {
   "cell_type": "markdown",
   "metadata": {},
   "source": [
    "## 8.3 Calcul de l'exponentielle modulaire"
   ]
  },
  {
   "cell_type": "markdown",
   "metadata": {},
   "source": [
    "Reprenez `exponentMod` , la fonction de calcul de l'exponentielle modulaire du TP3, et comparez sa complexité avec  chacune des deux définition récursives suivantes de l'exponentielle modulaire (puis sa version programmation dynamique si nécessaire) (on comparera les complexités de 3^b mod 7 pour des valeurs de b croissantes):\n",
    "$$a^b\\mod n=(a*(a^{b-1}\\mod n))\\mod n$$\n",
    "et\n",
    "$$\\left\\{\\begin{array}{ll}\n",
    "a^b\\mod n=(a^{b/2}\\mod n)^2\\mod n&\\mbox{si $b$ pair}\\\\\n",
    "a^b\\mod n=(a^{\\lfloor b/2\\rfloor}\\mod n)^2.(a\\mod n)\\mod n&\\mbox{si $b$ impair}\n",
    "\\end{array}\\right.$$"
   ]
  }
 ],
 "metadata": {
  "kernelspec": {
   "display_name": "Python 3",
   "language": "python",
   "name": "python3"
  },
  "language_info": {
   "codemirror_mode": {
    "name": "ipython",
    "version": 3
   },
   "file_extension": ".py",
   "mimetype": "text/x-python",
   "name": "python",
   "nbconvert_exporter": "python",
   "pygments_lexer": "ipython3",
   "version": "3.6.2"
  }
 },
 "nbformat": 4,
 "nbformat_minor": 2
}
