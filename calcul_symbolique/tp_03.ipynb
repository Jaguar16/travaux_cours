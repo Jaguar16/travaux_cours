{
 "cells": [
  {
   "cell_type": "markdown",
   "metadata": {},
   "source": [
    "# TP3: Arithmétique et cryptographie"
   ]
  },
  {
   "cell_type": "markdown",
   "metadata": {},
   "source": [
    "## 1. Arithmétique modulaire"
   ]
  },
  {
   "cell_type": "markdown",
   "metadata": {},
   "source": [
    "1. Construisez la table d'addition et de multiplication des entiers modulo 5. Pour une présentation plus agréable, considérez la fonction `Matrix` comme dans le TP 2"
   ]
  },
  {
   "cell_type": "code",
   "execution_count": 1,
   "metadata": {},
   "outputs": [
    {
     "data": {
      "text/plain": [
       "Matrix([\n",
       "[0, 1, 2, 3, 4],\n",
       "[1, 2, 3, 4, 0],\n",
       "[2, 3, 4, 0, 1],\n",
       "[3, 4, 0, 1, 2],\n",
       "[4, 0, 1, 2, 3]])"
      ]
     },
     "execution_count": 1,
     "metadata": {},
     "output_type": "execute_result"
    }
   ],
   "source": [
    "from sympy import * \n",
    "#init_printing()\n",
    "x,y = symbols('x y')\n",
    "add = Lambda([x,y], ((x+y)%5))  # pour l'addition\n",
    "Matrix(5,5,add)"
   ]
  },
  {
   "cell_type": "code",
   "execution_count": 2,
   "metadata": {},
   "outputs": [
    {
     "data": {
      "text/plain": [
       "Matrix([\n",
       "[0, 0, 0, 0, 0],\n",
       "[0, 1, 2, 3, 4],\n",
       "[0, 2, 4, 1, 3],\n",
       "[0, 3, 1, 4, 2],\n",
       "[0, 4, 3, 2, 1]])"
      ]
     },
     "execution_count": 2,
     "metadata": {},
     "output_type": "execute_result"
    }
   ],
   "source": [
    "mul = Lambda([x,y], ((x*y)%5)) # pour la multiplication\n",
    "Matrix(5,5,mul)"
   ]
  },
  {
   "cell_type": "markdown",
   "metadata": {},
   "source": [
    "2. Ecrivez une fonction `CoprimeQ` qui prend en entrée deux entiers et qui renvoie `True` si les entiers sont premiers entre eux"
   ]
  },
  {
   "cell_type": "code",
   "execution_count": 3,
   "metadata": {},
   "outputs": [
    {
     "data": {
      "text/plain": [
       "True"
      ]
     },
     "execution_count": 3,
     "metadata": {},
     "output_type": "execute_result"
    }
   ],
   "source": [
    "def CoprimeQ(p,q):\n",
    "    return gcd(p,q) == 1\n",
    "CoprimeQ(3,11)"
   ]
  },
  {
   "cell_type": "markdown",
   "metadata": {},
   "source": [
    "3. Programmez l'algorithme d'Euclide étendu itératif suivant et vérifiez qu'il fonctionne bien en comparant avec celui de la librairie `Sympy`. La fonction `floor` se trouve dans la librairie `math` mais corresond aussi à la division entière `//`. Les variables `Q` et `R` ne peuvent pas être des tuples (il n'y a pas d'arithmétique des tuples)."
   ]
  },
  {
   "cell_type": "raw",
   "metadata": {},
   "source": [
    "#euclideEtendu(q,r) pour q<r\n",
    "#\tQ <- (1,0)\n",
    "#\tR <- (0,1)\n",
    "#\ttantque r!=0 faire\n",
    "#\t\tt <- q mod r\n",
    "#\t\tT <- Q - Floor(q/r).R\n",
    "#\t\tq,r <- r,t\n",
    "#\t\tQ,R <- R,T\n",
    "#\tfintant\n",
    "#\tretourne(Q,q) avec q valeur du PGCD et Q les coefficients de Bézout"
   ]
  },
  {
   "cell_type": "code",
   "execution_count": 4,
   "metadata": {},
   "outputs": [
    {
     "data": {
      "text/plain": [
       "(-7, 3, 1)"
      ]
     },
     "execution_count": 4,
     "metadata": {},
     "output_type": "execute_result"
    }
   ],
   "source": [
    "def euclideEtendu(a,b):\n",
    "    d,u,v,d1,u1,v1=a,1,0,b,0,1\n",
    "    while d1!=0:\n",
    "        q=d//d1\n",
    "        d,u,v,d1,u1,v1=d1,u1,v1,d-q*d1,u-q*u1,v-q*v1\n",
    "    return (u,v,d)\n",
    "\n",
    "euclideEtendu(11,26)"
   ]
  },
  {
   "cell_type": "code",
   "execution_count": 5,
   "metadata": {},
   "outputs": [
    {
     "data": {
      "text/plain": [
       "(9, -1, 1)"
      ]
     },
     "execution_count": 5,
     "metadata": {},
     "output_type": "execute_result"
    }
   ],
   "source": [
    "gcdex(3,26)"
   ]
  },
  {
   "cell_type": "markdown",
   "metadata": {},
   "source": [
    "Pour comprendre le fonctionnement, remplissez le tableau qui trace les valeurs de `q,r,t,Q,floor(q/r),R,T`. ![](EucEt1126.png)"
   ]
  },
  {
   "cell_type": "markdown",
   "metadata": {},
   "source": [
    "4. Ecrivez une fonction `modinv` qui prend en entrée `a` et `m` et qui renvoie l'inverse de `a`modulo `m` s'il existe et retourne une erreur sinon"
   ]
  },
  {
   "cell_type": "code",
   "execution_count": 6,
   "metadata": {},
   "outputs": [
    {
     "data": {
      "text/plain": [
       "9"
      ]
     },
     "execution_count": 6,
     "metadata": {},
     "output_type": "execute_result"
    }
   ],
   "source": [
    "def modinv(a,m):\n",
    "    invmod = gcdex(a,m)\n",
    "    if invmod[2] !=1 : return -1\n",
    "    return invmod[0]%m\n",
    "modinv(3,26)"
   ]
  },
  {
   "cell_type": "markdown",
   "metadata": {},
   "source": [
    "5. Reprenez le code de l'exponentielle modulaire $a^b\\mod n$ et instrumentez le code pour faire la trace d'exécution en remplissant un tableau comme dans l'exemple ![](exponentMod.png)"
   ]
  },
  {
   "cell_type": "code",
   "execution_count": null,
   "metadata": {},
   "outputs": [],
   "source": [
    "def exponentMod(a,b,p):\n",
    "    res=1\n",
    "    for i in bin(b)[2:]:\n",
    "        res=(res*res)%p\n",
    "        if i=='1':\n",
    "            res=(res*a)%p\n",
    "        print(i,res)\n",
    "    return(res)"
   ]
  },
  {
   "cell_type": "markdown",
   "metadata": {},
   "source": [
    "## 2. RSA"
   ]
  },
  {
   "cell_type": "markdown",
   "metadata": {},
   "source": [
    "1. Ecrivez une fonction `genCle` qui prend en entrée une taille (celle de la clé) exprimée en octets (1 octet = 8 bits) et qui retourne le tuple composé de l'entier $p$ et de l'entier $q$."
   ]
  },
  {
   "cell_type": "code",
   "execution_count": 7,
   "metadata": {},
   "outputs": [
    {
     "data": {
      "text/plain": [
       "(317, 331)"
      ]
     },
     "execution_count": 7,
     "metadata": {},
     "output_type": "execute_result"
    }
   ],
   "source": [
    "def genCle(n):\n",
    "    gen = randprime(1,n*2**8)\n",
    "    return (gen,nextprime(gen))\n",
    "genCle(4)"
   ]
  },
  {
   "cell_type": "markdown",
   "metadata": {},
   "source": [
    "2. Ecrivez les fonctions `clePub` et `clePriv` qui ont un fonctionnement analogue à `rsa_public_key` et `rsa_private_key`. N'oubliez pas de fournir la valeur de `e`."
   ]
  },
  {
   "cell_type": "code",
   "execution_count": 8,
   "metadata": {},
   "outputs": [
    {
     "data": {
      "text/plain": [
       "8743"
      ]
     },
     "execution_count": 8,
     "metadata": {},
     "output_type": "execute_result"
    }
   ],
   "source": [
    "def clePub(p,q,e):\n",
    "    n = p*q\n",
    "    if gcd(e,totient(n)) != 1 : return False\n",
    "    return (n,e)\n",
    "\n",
    "def clePriv(p,q,e):\n",
    "    n = p*q\n",
    "    if modinv(e,totient(n)) == -1 : return False\n",
    "    return modinv(e,totient(n))\n",
    "clePriv(nextprime(100),nextprime(101),7)"
   ]
  },
  {
   "cell_type": "markdown",
   "metadata": {},
   "source": [
    "3. Ecrivez une fonction `RSA`en `Python` qui prend en entrée :\n",
    "    - soit la clé publique: le tuple $(n,e)$ et un entier $m$ et qui renvoie $m^e\\mod n$\n",
    "    - soit la clé privée: le tuple $(n,d)$ et un entier $c$ et qui renvoie $c^d\\mod n$"
   ]
  },
  {
   "cell_type": "code",
   "execution_count": 9,
   "metadata": {},
   "outputs": [
    {
     "data": {
      "text/plain": [
       "15"
      ]
     },
     "execution_count": 9,
     "metadata": {},
     "output_type": "execute_result"
    }
   ],
   "source": [
    "def rsa(m,t):\n",
    "    return (m**t[1])%t[0]\n",
    "rsa(3,(509,11))"
   ]
  },
  {
   "cell_type": "code",
   "execution_count": 10,
   "metadata": {},
   "outputs": [
    {
     "data": {
      "text/plain": [
       "15"
      ]
     },
     "execution_count": 10,
     "metadata": {},
     "output_type": "execute_result"
    }
   ],
   "source": [
    "rsa(3,(509,11))"
   ]
  },
  {
   "cell_type": "markdown",
   "metadata": {},
   "source": [
    "4. Utilisez votre fonction `RSA` pour construire `RSAEnc` et `RDADec` dont le comportement est analogue à `encipher_rsa(m,pk)` et `decipher_rsa(c,dk)` de l'implémentation RSA de `Sympy`."
   ]
  },
  {
   "cell_type": "code",
   "execution_count": 11,
   "metadata": {},
   "outputs": [
    {
     "data": {
      "text/plain": [
       "177147"
      ]
     },
     "execution_count": 11,
     "metadata": {},
     "output_type": "execute_result"
    }
   ],
   "source": [
    "def RSAEnc(m,pk):\n",
    "    return pow(m,pk[1],pk[0])\n",
    "RSAEnc(3,(509*521,11))"
   ]
  },
  {
   "cell_type": "code",
   "execution_count": 13,
   "metadata": {},
   "outputs": [
    {
     "data": {
      "text/plain": [
       "3"
      ]
     },
     "execution_count": 13,
     "metadata": {},
     "output_type": "execute_result"
    }
   ],
   "source": [
    "def RSADec(c,dk):\n",
    "    return pow(c,dk[1],dk[0])\n",
    "RSADec(177147,(509*521,216131))"
   ]
  },
  {
   "cell_type": "markdown",
   "metadata": {},
   "source": [
    "5. En utilisant les fonctions de codage et de décodage du cours, tarnsformez les fonctions `RSAEnc` et `RSADec` pour qu'elles pemettent de chiffrer et de déchiffer des chaines de caractères."
   ]
  },
  {
   "cell_type": "code",
   "execution_count": 19,
   "metadata": {},
   "outputs": [
    {
     "data": {
      "text/plain": [
       "[25955, 26979, 25888, 29811, 29984, 8302, 25965, 29555, 26465, 101]"
      ]
     },
     "execution_count": 19,
     "metadata": {},
     "output_type": "execute_result"
    }
   ],
   "source": [
    "DEFAULT_BLOCK_SIZE = 128\n",
    "BYTE_SIZE=256\n",
    "\n",
    "def Text2Ints(message,blockSize=DEFAULT_BLOCK_SIZE):\n",
    "    # convertit une chaine en une liste de blocs d'entiers\n",
    "    # chaque entier représente 'blockSize' caractères de la chaîne\n",
    "            \n",
    "    messageBytes=message.encode('ascii')   # convertit la chaine en octets \n",
    "    blockInts=[]\n",
    "    for blockStart in range(0,len(messageBytes),blockSize):\n",
    "        # calculer l'entier correspondant au bloc de texte\n",
    "        blockInt=0\n",
    "        for i in range(blockStart,min(blockStart+blockSize,len(messageBytes))):\n",
    "             blockInt += int(messageBytes[i])*(BYTE_SIZE ** (i%blockSize))\n",
    "        blockInts.append(blockInt)\n",
    "        \n",
    "    return blockInts\n",
    "\n",
    "\n",
    "Text2Ints(\"ceci est un message\",2)\n"
   ]
  },
  {
   "cell_type": "code",
   "execution_count": 23,
   "metadata": {},
   "outputs": [],
   "source": [
    "def RSAEnc1(m,pk,blockSize=DEFAULT_BLOCK_SIZE):\n",
    "    if type(m) == str :\n",
    "        m = Text2Ints(m,blockSize)\n",
    "        return [pow(i,pk[1],pk[0]) for i in m]\n",
    "    return pow(m,pk[1],pk[0])"
   ]
  },
  {
   "cell_type": "code",
   "execution_count": 24,
   "metadata": {},
   "outputs": [
    {
     "data": {
      "text/plain": [
       "[9063, 4886, 3473, 4928, 8944, 7002, 1503, 7331, 2490, 6464]"
      ]
     },
     "execution_count": 24,
     "metadata": {},
     "output_type": "execute_result"
    }
   ],
   "source": [
    "RSAEnc1(\"ceci est un message\",(10403,7),2)"
   ]
  },
  {
   "cell_type": "code",
   "execution_count": 26,
   "metadata": {},
   "outputs": [],
   "source": [
    "def Ints2Text(blockInts,messageLength,blockSize=DEFAULT_BLOCK_SIZE) :\n",
    "    message=[]\n",
    "    for blockInt in blockInt:\n",
    "        blockMessage=[]\n",
    "        for i in range(blockSize-1,-1,-1):\n",
    "            if len(message)+i < messageLength :\n",
    "                charNumber=blockInt//(BYTE_SIZE**i)\n",
    "                blockInt=blockInt%(BYTE_SIZE**i)\n",
    "                blockMessage.insert(0,bytes([charNumber]).decode('ascii'))\n",
    "        message.extend(blockMessage)\n",
    "    return ''.join(message)"
   ]
  },
  {
   "cell_type": "code",
   "execution_count": 25,
   "metadata": {},
   "outputs": [
    {
     "data": {
      "text/plain": [
       "[5149, 6173, 5082, 9005, 9178, 8302, 5159, 8749, 5659, 101]"
      ]
     },
     "execution_count": 25,
     "metadata": {},
     "output_type": "execute_result"
    }
   ],
   "source": [
    "def RSADec2(c,dk):\n",
    "    if type(c)==list :\n",
    "        return [pow(i,dk[1],dk[0]) for i in c]\n",
    "    return pow(c,dk[1],dk[0])\n",
    "RSADec2([9063, 4886, 3473, 4928, 8944, 7002, 1503, 7331, 2490, 6464],(10403,8743))"
   ]
  },
  {
   "cell_type": "code",
   "execution_count": null,
   "metadata": {},
   "outputs": [],
   "source": []
  }
 ],
 "metadata": {
  "kernelspec": {
   "display_name": "Python 3",
   "language": "python",
   "name": "python3"
  },
  "language_info": {
   "codemirror_mode": {
    "name": "ipython",
    "version": 3
   },
   "file_extension": ".py",
   "mimetype": "text/x-python",
   "name": "python",
   "nbconvert_exporter": "python",
   "pygments_lexer": "ipython3",
   "version": "3.6.5"
  }
 },
 "nbformat": 4,
 "nbformat_minor": 2
}
