{
 "cells": [
  {
   "cell_type": "markdown",
   "metadata": {},
   "source": [
    "# TP 5: Algèbre linéaire et codes"
   ]
  },
  {
   "cell_type": "markdown",
   "metadata": {},
   "source": [
    "Dans la suite, on travaille modulo 2. Il faudra donc utiliser les fonctions du cours qui permettent de calculer modulo 2 des listes ou des vecteurs."
   ]
  },
  {
   "cell_type": "markdown",
   "metadata": {},
   "source": [
    "## 1. Distance et poinds de Hamming"
   ]
  },
  {
   "cell_type": "markdown",
   "metadata": {},
   "source": [
    "Pour $x$ et $y$ éléments de $\\{0,1\\}$, on définit la distance de Hamming par: \n",
    "$$d(x,y)=\\left\\{\n",
    "\\begin{array}{ll}\n",
    "1&\\mbox{si } x\\neq y\\\\\n",
    "0&\\mbox{si } x=y\n",
    "\\end{array}\n",
    "\\right.$$"
   ]
  },
  {
   "cell_type": "markdown",
   "metadata": {},
   "source": [
    "On étend cette distance aux vecteurs binaires de dimension $n$ par:\n",
    "$$d_H(x,y)=\\sum_{i=1}^n d(x_i,y_i)$$"
   ]
  },
  {
   "cell_type": "markdown",
   "metadata": {},
   "source": [
    "Intuitivement, la distance de Hamming compte le nombre de positions où les 2 vecteurs diffèrent"
   ]
  },
  {
   "cell_type": "markdown",
   "metadata": {},
   "source": [
    "1. Écrivez une fonction `Hamming` qui calcule la distance de Hamming entre deux vecteurs binaires de même longueur"
   ]
  },
  {
   "cell_type": "code",
   "execution_count": 1,
   "metadata": {},
   "outputs": [
    {
     "data": {
      "text/plain": [
       "2"
      ]
     },
     "execution_count": 1,
     "metadata": {},
     "output_type": "execute_result"
    }
   ],
   "source": [
    "def Hamming(x,y):\n",
    "    n = len(x)\n",
    "    def H(x,y) : \n",
    "        if x != y : return 1\n",
    "        return 0\n",
    "    return sum(H(x[i],y[i]) for i in range(n))\n",
    "\n",
    "Hamming([1,2,4,5],[0,2,3,5])\n"
   ]
  },
  {
   "cell_type": "markdown",
   "metadata": {},
   "source": [
    "Une fonction utile pour les codes est celle qui compte la distance de Hamming au vecteur nul, appelée poids de Hamming et notée $w$: $$w(x)=d_H(0,x)$$"
   ]
  },
  {
   "cell_type": "markdown",
   "metadata": {},
   "source": [
    "2. Ecrivez une fonction `poids` qui calcule le poids de Hamming d'un vecteur binaire."
   ]
  },
  {
   "cell_type": "code",
   "execution_count": 2,
   "metadata": {},
   "outputs": [
    {
     "data": {
      "text/plain": [
       "3"
      ]
     },
     "execution_count": 2,
     "metadata": {},
     "output_type": "execute_result"
    }
   ],
   "source": [
    "def poids(v):\n",
    "    return Hamming([0]*(len(v)),v)\n",
    "poids([0,1,2,8,0])"
   ]
  },
  {
   "cell_type": "markdown",
   "metadata": {},
   "source": [
    "La distance minimale d'un code est le poids minimal des mots (non nuls) du code. Expliquez comment obtenir la liste des mots du code sans le mot nul (pensez à la différence de deux ensembles)."
   ]
  },
  {
   "cell_type": "code",
   "execution_count": null,
   "metadata": {},
   "outputs": [],
   "source": [
    "list(C-{(0,0,0)})"
   ]
  },
  {
   "cell_type": "markdown",
   "metadata": {},
   "source": [
    "3. Sur le code $C=\\{(0, 0, 0),(1, 0, 1), (0, 1, 1), (1, 1, 0)\\}$, calculez la distance minimale."
   ]
  },
  {
   "cell_type": "code",
   "execution_count": 3,
   "metadata": {},
   "outputs": [
    {
     "data": {
      "text/plain": [
       "2"
      ]
     },
     "execution_count": 3,
     "metadata": {},
     "output_type": "execute_result"
    }
   ],
   "source": [
    "C = {(0,0,0),(1,0,1),(0,1,1),(1,1,0)}\n",
    "liste_code = list(C-{(0,0,0)})\n",
    "p = [poids(i) for i in liste_code]\n",
    "min(p) "
   ]
  },
  {
   "cell_type": "markdown",
   "metadata": {},
   "source": [
    "## 2. Détection ou correction des erreurs"
   ]
  },
  {
   "cell_type": "markdown",
   "metadata": {},
   "source": [
    "La distance minimale $d(C)$ d'un code $C$ permet de calculer combien d'erreurs peuvent être détectées $e_d$ ou corrigées $e_c$ par les égalités suivantes:\n",
    "$$\\begin{array}\n",
    "e_d = d(C) -1\\\\\n",
    "e_c = \\lfloor\\frac{d(C)-1}{2}\\rfloor\n",
    "\\end{array}$$"
   ]
  },
  {
   "cell_type": "markdown",
   "metadata": {},
   "source": [
    "1. Quelle est la capacité de détection (ou de correction) du code précédent $C=\\{(0, 0, 0),(1, 0, 1), (0, 1, 1), (1, 1, 0)\\}$"
   ]
  },
  {
   "cell_type": "code",
   "execution_count": 4,
   "metadata": {},
   "outputs": [],
   "source": [
    "ed = min(p) - 1\n",
    "ec = abs((min(p)-1)/2)"
   ]
  },
  {
   "cell_type": "markdown",
   "metadata": {},
   "source": [
    "## 3. Etude d'un code correcteur d'erreurs"
   ]
  },
  {
   "cell_type": "markdown",
   "metadata": {},
   "source": [
    "Soit le code engendré par la matrice génératrice $G$"
   ]
  },
  {
   "cell_type": "code",
   "execution_count": 1,
   "metadata": {},
   "outputs": [
    {
     "data": {
      "image/png": "[encoded data removed]",
      "text/latex": [
       "$$\\left[\\begin{matrix}1 & 0 & 0 & 0 & 1 & 1\\\\0 & 1 & 0 & 1 & 0 & 1\\\\0 & 0 & 1 & 1 & 1 & 0\\end{matrix}\\right]$$"
      ],
      "text/plain": [
       "⎡1  0  0  0  1  1⎤\n",
       "⎢                ⎥\n",
       "⎢0  1  0  1  0  1⎥\n",
       "⎢                ⎥\n",
       "⎣0  0  1  1  1  0⎦"
      ]
     },
     "execution_count": 1,
     "metadata": {},
     "output_type": "execute_result"
    }
   ],
   "source": [
    "from sympy import *\n",
    "init_printing()\n",
    "G=Matrix([[1, 0, 0, 0, 1, 1], [0, 1, 0, 1, 0, 1], [0, 0, 1, 1, 1, 0]])\n",
    "G"
   ]
  },
  {
   "cell_type": "code",
   "execution_count": 28,
   "metadata": {},
   "outputs": [],
   "source": [
    "def listMod2(l) : return [i%2 for i in l]\n",
    "def vecMod2(v) : return Matrix(listMod2(v))\n",
    "def llistMod2(m) :\n",
    "    return [listMod2(i) for i in m]\n",
    "def matMod2(m):\n",
    "    r = []\n",
    "    n = m.rank()\n",
    "    for i in range(n):\n",
    "        r.append(listMod2(m[i,:]))\n",
    "    return Matrix(r)"
   ]
  },
  {
   "cell_type": "code",
   "execution_count": 3,
   "metadata": {},
   "outputs": [],
   "source": [
    "def uplets(n):\n",
    "    from itertools import product\n",
    "    a = [range(0,2)]*n\n",
    "    r = tuple(product(*a))\n",
    "    return r"
   ]
  },
  {
   "cell_type": "markdown",
   "metadata": {},
   "source": [
    "1. Quels sont les mots du code?"
   ]
  },
  {
   "cell_type": "code",
   "execution_count": 4,
   "metadata": {},
   "outputs": [
    {
     "name": "stdout",
     "output_type": "stream",
     "text": [
      "(0, 0, 0)  |->  [0, 0, 0, 0, 0, 0]\n",
      "(0, 0, 1)  |->  [0, 0, 1, 1, 1, 0]\n",
      "(0, 1, 0)  |->  [0, 1, 0, 1, 0, 1]\n",
      "(0, 1, 1)  |->  [0, 1, 1, 2, 1, 1]\n",
      "(1, 0, 0)  |->  [1, 0, 0, 0, 1, 1]\n",
      "(1, 0, 1)  |->  [1, 0, 1, 1, 2, 1]\n",
      "(1, 1, 0)  |->  [1, 1, 0, 1, 1, 2]\n",
      "(1, 1, 1)  |->  [1, 1, 1, 2, 2, 2]\n"
     ]
    }
   ],
   "source": [
    "m = uplets(3)\n",
    "C1 = []\n",
    "for i in m :\n",
    "    C1.append(list(Matrix(3,1,i).T*G))\n",
    "    print(i,' |-> ', list(Matrix(3,1,i).T*G))\n"
   ]
  },
  {
   "cell_type": "markdown",
   "metadata": {},
   "source": [
    "2. Quelle est la longueur et la dimension de ce code?"
   ]
  },
  {
   "cell_type": "code",
   "execution_count": 6,
   "metadata": {},
   "outputs": [
    {
     "data": {
      "image/png": "[encoded data removed]",
      "text/latex": [
       "$$\\left [ \\left [ 0, \\quad 0, \\quad 0, \\quad 0, \\quad 0, \\quad 0\\right ], \\quad \\left [ 0, \\quad 0, \\quad 1, \\quad 1, \\quad 1, \\quad 0\\right ], \\quad \\left [ 0, \\quad 1, \\quad 0, \\quad 1, \\quad 0, \\quad 1\\right ], \\quad \\left [ 0, \\quad 1, \\quad 1, \\quad 0, \\quad 1, \\quad 1\\right ], \\quad \\left [ 1, \\quad 0, \\quad 0, \\quad 0, \\quad 1, \\quad 1\\right ], \\quad \\left [ 1, \\quad 0, \\quad 1, \\quad 1, \\quad 0, \\quad 1\\right ], \\quad \\left [ 1, \\quad 1, \\quad 0, \\quad 1, \\quad 1, \\quad 0\\right ], \\quad \\left [ 1, \\quad 1, \\quad 1, \\quad 0, \\quad 0, \\quad 0\\right ]\\right ]$$"
      ],
      "text/plain": [
       "[[0, 0, 0, 0, 0, 0], [0, 0, 1, 1, 1, 0], [0, 1, 0, 1, 0, 1], [0, 1, 1, 0, 1, 1\n",
       "], [1, 0, 0, 0, 1, 1], [1, 0, 1, 1, 0, 1], [1, 1, 0, 1, 1, 0], [1, 1, 1, 0, 0,\n",
       " 0]]"
      ]
     },
     "execution_count": 6,
     "metadata": {},
     "output_type": "execute_result"
    }
   ],
   "source": [
    "#code de dimension 3 de longueur 8\n",
    "llistMod2(C1)"
   ]
  },
  {
   "cell_type": "markdown",
   "metadata": {},
   "source": [
    "3. Quelle en est la distance minimale?"
   ]
  },
  {
   "cell_type": "code",
   "execution_count": 11,
   "metadata": {},
   "outputs": [
    {
     "data": {
      "text/plain": [
       "3"
      ]
     },
     "execution_count": 11,
     "metadata": {},
     "output_type": "execute_result"
    }
   ],
   "source": [
    "p = [poids(i) for i in C1[1:]]\n",
    "min(p)"
   ]
  },
  {
   "cell_type": "markdown",
   "metadata": {},
   "source": [
    "4. Quelle est sa capacité de détection/correction?"
   ]
  },
  {
   "cell_type": "code",
   "execution_count": 12,
   "metadata": {},
   "outputs": [],
   "source": [
    "ed = min(p)-1\n",
    "ec = abs((min(p)-1)/2)"
   ]
  },
  {
   "cell_type": "markdown",
   "metadata": {},
   "source": [
    "5. Trouvez sa matrice de contrôle"
   ]
  },
  {
   "cell_type": "code",
   "execution_count": 41,
   "metadata": {},
   "outputs": [
    {
     "data": {
      "image/png": "[encoded data removed]",
      "text/latex": [
       "$$\\left[\\begin{matrix}0 & 1 & 1 & 1 & 0 & 0\\\\1 & 0 & 1 & 0 & 1 & 0\\\\1 & 1 & 0 & 0 & 0 & 1\\end{matrix}\\right]$$"
      ],
      "text/plain": [
       "⎡0  1  1  1  0  0⎤\n",
       "⎢                ⎥\n",
       "⎢1  0  1  0  1  0⎥\n",
       "⎢                ⎥\n",
       "⎣1  1  0  0  0  1⎦"
      ]
     },
     "execution_count": 41,
     "metadata": {},
     "output_type": "execute_result"
    }
   ],
   "source": [
    "H = G.nullspace()\n",
    "H1 =[listMod2(i) for i in H]\n",
    "H2 = Matrix(H1)\n",
    "H2"
   ]
  },
  {
   "cell_type": "code",
   "execution_count": 29,
   "metadata": {},
   "outputs": [
    {
     "data": {
      "image/png": "[encoded data removed]",
      "text/latex": [
       "$$\\left[\\begin{matrix}0 & 0 & 0\\\\0 & 0 & 0\\\\0 & 0 & 0\\end{matrix}\\right]$$"
      ],
      "text/plain": [
       "⎡0  0  0⎤\n",
       "⎢       ⎥\n",
       "⎢0  0  0⎥\n",
       "⎢       ⎥\n",
       "⎣0  0  0⎦"
      ]
     },
     "execution_count": 29,
     "metadata": {},
     "output_type": "execute_result"
    }
   ],
   "source": [
    "matMod2(G*Matrix(H1).T)"
   ]
  },
  {
   "cell_type": "markdown",
   "metadata": {},
   "source": [
    "6. Calculez la table des syndromes"
   ]
  },
  {
   "cell_type": "code",
   "execution_count": 45,
   "metadata": {},
   "outputs": [
    {
     "name": "stdout",
     "output_type": "stream",
     "text": [
      "[1, 0, 0, 0, 0, 0] [0, 1, 1]\n",
      "[0, 1, 0, 0, 0, 0] [1, 0, 1]\n",
      "[0, 0, 1, 0, 0, 0] [1, 1, 0]\n",
      "[0, 0, 0, 1, 0, 0] [1, 0, 0]\n",
      "[0, 0, 0, 0, 1, 0] [0, 1, 0]\n",
      "[0, 0, 0, 0, 0, 1] [0, 0, 1]\n"
     ]
    }
   ],
   "source": [
    "def unitVector(n,i):\n",
    "    return Matrix([1 if j==i else 0 for j in range(n)])\n",
    "\n",
    "def syndrome(recu):\n",
    "    return vecMod2(H2*recu)\n",
    "\n",
    "for i in range(6):\n",
    "    print(list(unitVector(6,i)),list(syndrome(unitVector(6,i))))"
   ]
  },
  {
   "cell_type": "markdown",
   "metadata": {},
   "source": [
    "7. Corrigez (ou non les mots reçus suivants) : $(1,1,0,1,1,0),(1,1,1,0,0,1)$"
   ]
  },
  {
   "cell_type": "code",
   "execution_count": 48,
   "metadata": {},
   "outputs": [
    {
     "data": {
      "image/png": "[encoded data removed]",
      "text/latex": [
       "$$\\left[\\begin{matrix}0\\\\0\\\\0\\end{matrix}\\right]$$"
      ],
      "text/plain": [
       "⎡0⎤\n",
       "⎢ ⎥\n",
       "⎢0⎥\n",
       "⎢ ⎥\n",
       "⎣0⎦"
      ]
     },
     "execution_count": 48,
     "metadata": {},
     "output_type": "execute_result"
    }
   ],
   "source": [
    "syndrome(Matrix([1,1,0,1,1,0]))"
   ]
  },
  {
   "cell_type": "code",
   "execution_count": 49,
   "metadata": {},
   "outputs": [
    {
     "data": {
      "image/png": "[encoded data removed]",
      "text/latex": [
       "$$\\left[\\begin{matrix}0\\\\0\\\\1\\end{matrix}\\right]$$"
      ],
      "text/plain": [
       "⎡0⎤\n",
       "⎢ ⎥\n",
       "⎢0⎥\n",
       "⎢ ⎥\n",
       "⎣1⎦"
      ]
     },
     "execution_count": 49,
     "metadata": {},
     "output_type": "execute_result"
    }
   ],
   "source": [
    "syndrome(Matrix([1,1,1,0,0,1]))"
   ]
  },
  {
   "cell_type": "code",
   "execution_count": 50,
   "metadata": {},
   "outputs": [
    {
     "data": {
      "image/png": "[encoded data removed]",
      "text/latex": [
       "$$\\left[\\begin{matrix}1\\\\1\\\\1\\\\0\\\\0\\\\0\\end{matrix}\\right]$$"
      ],
      "text/plain": [
       "⎡1⎤\n",
       "⎢ ⎥\n",
       "⎢1⎥\n",
       "⎢ ⎥\n",
       "⎢1⎥\n",
       "⎢ ⎥\n",
       "⎢0⎥\n",
       "⎢ ⎥\n",
       "⎢0⎥\n",
       "⎢ ⎥\n",
       "⎣0⎦"
      ]
     },
     "execution_count": 50,
     "metadata": {},
     "output_type": "execute_result"
    }
   ],
   "source": [
    "vecMod2(Matrix([1,1,1,0,0,1])+ Matrix([0,0,0,0,0,1]))"
   ]
  },
  {
   "cell_type": "code",
   "execution_count": null,
   "metadata": {},
   "outputs": [],
   "source": []
  }
 ],
 "metadata": {
  "kernelspec": {
   "display_name": "Python 3",
   "language": "python",
   "name": "python3"
  },
  "language_info": {
   "codemirror_mode": {
    "name": "ipython",
    "version": 3
   },
   "file_extension": ".py",
   "mimetype": "text/x-python",
   "name": "python",
   "nbconvert_exporter": "python",
   "pygments_lexer": "ipython3",
   "version": "3.6.5"
  }
 },
 "nbformat": 4,
 "nbformat_minor": 2
}
