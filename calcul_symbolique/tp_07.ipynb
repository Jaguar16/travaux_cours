{
 "cells": [
  {
   "cell_type": "markdown",
   "metadata": {
    "button": false,
    "new_sheet": false,
    "run_control": {
     "read_only": false
    }
   },
   "source": [
    "# TP 7: Analyse et applications"
   ]
  },
  {
   "cell_type": "markdown",
   "metadata": {
    "button": false,
    "new_sheet": false,
    "run_control": {
     "read_only": false
    }
   },
   "source": [
    "## 1. Retour sur la méthode de point fixe"
   ]
  },
  {
   "cell_type": "markdown",
   "metadata": {
    "button": false,
    "new_sheet": false,
    "run_control": {
     "read_only": false
    }
   },
   "source": [
    "On cherche à trouver un point fixe de la fonction $g(x)=e^{-x}$."
   ]
  },
  {
   "cell_type": "markdown",
   "metadata": {
    "button": false,
    "new_sheet": false,
    "run_control": {
     "read_only": false
    }
   },
   "source": [
    "1. Tracez la courbe de $g(x)$ ainsi que de la droite d'équation $y=x$ sur $[0,1]$"
   ]
  },
  {
   "cell_type": "code",
   "execution_count": 1,
   "metadata": {},
   "outputs": [
    {
     "data": {
      "image/png": "[encoded data removed]",
      "text/plain": [
       "<Figure size 432x288 with 1 Axes>"
      ]
     },
     "metadata": {},
     "output_type": "display_data"
    },
    {
     "data": {
      "text/plain": [
       "<sympy.plotting.plot.Plot at 0x271c7febfd0>"
      ]
     },
     "execution_count": 1,
     "metadata": {},
     "output_type": "execute_result"
    }
   ],
   "source": [
    "from matplotlib import pyplot as plt\n",
    "from sympy import *\n",
    "#init_printing()\n",
    "%matplotlib inline\n",
    "\n",
    "x=symbols('x')\n",
    "f=Lambda(x,E**(-x))\n",
    "p1 = plot(E**-x,x,(x,0,1), ylim =(0,1))\n",
    "p1"
   ]
  },
  {
   "cell_type": "markdown",
   "metadata": {
    "button": false,
    "new_sheet": false,
    "run_control": {
     "read_only": false
    }
   },
   "source": [
    "On cherche à appliquer la méthode de point fixe par approximations successives de la suite $(x_n)$ définie par récurrence pour $x_0$ fixé et $x_{n+1}=g(x_n)$ pour une fonction réelle $g$. \n",
    "\n",
    "Le nombre de termes de $(x_n)$ à calculer n'est pas connu a priori. Cependant, si l'erreur absolue à l'ordre $k$ est petite par rapport à la tolérance $\\epsilon$, on peut arrêter le calcul."
   ]
  },
  {
   "cell_type": "markdown",
   "metadata": {
    "button": false,
    "new_sheet": false,
    "run_control": {
     "read_only": false
    }
   },
   "source": [
    "2. Ecrivez une fonction `PtFixe(g,x,e)` en `Sympy` basée sur la récurence définie ci-dessus. Cette fonction prend en entrée la valeur initiale $x$, la fonction $g$ et la tolérance $e$. Elle retourne le réel $x$ qui approche la solution exacte au problème $g(x)=x$."
   ]
  },
  {
   "cell_type": "code",
   "execution_count": 25,
   "metadata": {
    "button": false,
    "new_sheet": false,
    "run_control": {
     "read_only": false
    }
   },
   "outputs": [
    {
     "data": {
      "text/plain": [
       "0.567140763269807"
      ]
     },
     "execution_count": 25,
     "metadata": {},
     "output_type": "execute_result"
    }
   ],
   "source": [
    "def PtFixe(g,x,e):\n",
    "    g0 = g(x)\n",
    "    while abs(g0-g(g0)) > e :\n",
    "        g0 = g(g0)\n",
    "    return g(g0)\n",
    "    \n",
    "PtFixe(f,0.5,0.00001)"
   ]
  },
  {
   "cell_type": "markdown",
   "metadata": {
    "button": false,
    "new_sheet": false,
    "run_control": {
     "read_only": false
    }
   },
   "source": [
    "3. Tracez la courbe de chaque tolérance en fonction du nombre d'itérations. C'est ce qui permet de mesurer expérimentalement la convergence de la méthode"
   ]
  },
  {
   "cell_type": "code",
   "execution_count": null,
   "metadata": {},
   "outputs": [],
   "source": []
  },
  {
   "cell_type": "markdown",
   "metadata": {
    "button": false,
    "new_sheet": false,
    "run_control": {
     "read_only": false
    }
   },
   "source": [
    "4. Quel est le point fixe de la fonction $g(x)=e^{-x}$? Quelle est la valeur retournée par la fonction `solve` de `Sympy` et comment l'interpréter?"
   ]
  },
  {
   "cell_type": "code",
   "execution_count": 41,
   "metadata": {},
   "outputs": [
    {
     "data": {
      "image/png": "[encoded data removed]",
      "text/latex": [
       "$$0.567144723662077$$"
      ],
      "text/plain": [
       "0.567144723662077"
      ]
     },
     "execution_count": 41,
     "metadata": {},
     "output_type": "execute_result"
    }
   ],
   "source": [
    "eq = Eq((E**-x)-x,0)\n",
    "solve(eq,x , implicit = True)\n",
    "E**-0.567140763269807"
   ]
  },
  {
   "cell_type": "markdown",
   "metadata": {
    "button": false,
    "new_sheet": false,
    "run_control": {
     "read_only": false
    }
   },
   "source": [
    "## 2. Méthode de la sécante"
   ]
  },
  {
   "cell_type": "markdown",
   "metadata": {
    "button": false,
    "new_sheet": false,
    "run_control": {
     "read_only": false
    }
   },
   "source": [
    "### 2.1 Motivation"
   ]
  },
  {
   "cell_type": "markdown",
   "metadata": {
    "button": false,
    "new_sheet": false,
    "run_control": {
     "read_only": false
    }
   },
   "source": [
    "Dans la figure ci-dessous, avec la méthode de la recherche dichotomique, l'approximation à l'étape suivante est $r\\in [\\frac{a+b}{2},b]$\n",
    "\n",
    "![](secante.png)\n",
    "\n",
    "La méthode de la recherche dichotomique est lente. On cherche une méthode qui améliorerait la convergence vers la racine $r$. Une des méthodes consiste à prendre comme approximation à l'étape suivante $r\\in [x_1,b]$ pour $x_1$ l'abcisse de l'intersection de la sécante avec l'axe des $x$."
   ]
  },
  {
   "cell_type": "markdown",
   "metadata": {
    "button": false,
    "new_sheet": false,
    "run_control": {
     "read_only": false
    }
   },
   "source": [
    "## 2.2 Description de la méthode"
   ]
  },
  {
   "cell_type": "markdown",
   "metadata": {
    "button": false,
    "new_sheet": false,
    "run_control": {
     "read_only": false
    }
   },
   "source": [
    "Pour une fonction $f$ définie sur un intervalle $[a,b]$ et telle que $f(a)\\cdot f(b)<0$, l'idée est de remplacer localement la fonction $f$ par la droite qui passe par les deux points $(a,f(a))$ et $(b,f(b))$. La \"méthode de la sécante\" est aussi appelée *regula falsi*."
   ]
  },
  {
   "cell_type": "markdown",
   "metadata": {
    "button": false,
    "new_sheet": false,
    "run_control": {
     "read_only": false
    }
   },
   "source": [
    "1. Ecrivez l'équation de la droite, appelée sécante, qui passe par les deux points $(a,f(a))$ et $(b,f(b))$ de façon symbolique (i.e. en fonction de $f$, $a$ et $b$). Autrement dit, on cherche symboliquement une équation réduite de droite de la forme $y=m.x+p$, donc les valeurs de la pente $m$ et de $p$, l'ordonnée à l'origine."
   ]
  },
  {
   "cell_type": "code",
   "execution_count": null,
   "metadata": {},
   "outputs": [],
   "source": [
    "#((f(b)-f(a))/(b-a)x) + f(a) - ((f(b)-f(a))/(b-a)a)"
   ]
  },
  {
   "cell_type": "markdown",
   "metadata": {
    "button": false,
    "new_sheet": false,
    "run_control": {
     "read_only": false
    }
   },
   "source": [
    "2. Etablissez la formule d'itération de la méthode de la sécante : la première approximation $x_1$ d'un zéro de $f$ est $$x_1=\\frac{a.f(b)-b.f(a)}{f(b)-f(a)}$$\n",
    "Cette formule est obtenue en calculant symboliquement l'intersection de la sécante avec l'axe des abcisses:"
   ]
  },
  {
   "cell_type": "markdown",
   "metadata": {},
   "source": [
    "$$x_n =\\frac{a_n.f(b_n)-b_n.f(a_n)}{f(b_n)-f(a_n)}$$"
   ]
  },
  {
   "cell_type": "markdown",
   "metadata": {
    "button": false,
    "new_sheet": false,
    "run_control": {
     "read_only": false
    }
   },
   "source": [
    "3. Ecrivez la fonction `secante(f,a,b)` en `Sympy` qui renvoie la valeur de la sécante de $f$ sur $[a,b]$. Celle-ci vous aidera à trouver les approximations successives, par exemple:"
   ]
  },
  {
   "cell_type": "code",
   "execution_count": 5,
   "metadata": {
    "button": false,
    "new_sheet": false,
    "run_control": {
     "read_only": false
    }
   },
   "outputs": [
    {
     "data": {
      "text/plain": [
       "(-3*f(2) + 2*f(3))/(-f(2) + f(3))"
      ]
     },
     "execution_count": 5,
     "metadata": {},
     "output_type": "execute_result"
    }
   ],
   "source": [
    "def secante(f,a,b):\n",
    "    return ((a*f(b))-(b*f(a)))/(f(b)-f(a))\n",
    "h = symbols('f')\n",
    "x1=secante(h,2,3)\n",
    "x1"
   ]
  },
  {
   "cell_type": "markdown",
   "metadata": {
    "button": false,
    "new_sheet": false,
    "run_control": {
     "read_only": false
    }
   },
   "source": [
    "4. Expliquez comment on choisit l'intervalle suivant: $[a,x_1]$ ou $[x_1,b]$ ?"
   ]
  },
  {
   "cell_type": "markdown",
   "metadata": {},
   "source": [
    "Si la fonction est décroissante et on a $a < b$ alors l'intervalle suivant sera $[a,x_1]$ puisque\n",
    "la prochaine sécante sera celle de la droite passant par $(a,f(a))$ et $(x_1,f(x_1))$\n",
    "Sinon, la fonctin est croissante et nôtre prochain intervalle sera $[x_1,b]$ et la prochaine sécante appartient à la \n",
    "droite passant par $(x_1, f(x_1))$ et $(b, f(b))$"
   ]
  },
  {
   "cell_type": "markdown",
   "metadata": {
    "button": false,
    "new_sheet": false,
    "run_control": {
     "read_only": false
    }
   },
   "source": [
    "5. Appliquez (en utilisant `Sympy`pour faire vos calculs) la méthode sur la fonction $$f(x)=\\frac{x-sin(x)}{2\\pi}-0,3$$"
   ]
  },
  {
   "cell_type": "markdown",
   "metadata": {
    "button": false,
    "new_sheet": false,
    "run_control": {
     "read_only": false
    }
   },
   "source": [
    "5.1 Affichez tout d'abord le graphe de la fonction $f$ sur $[0,6]$"
   ]
  },
  {
   "cell_type": "code",
   "execution_count": 2,
   "metadata": {
    "button": false,
    "new_sheet": false,
    "run_control": {
     "read_only": false
    }
   },
   "outputs": [
    {
     "data": {
      "image/png": "[encoded data removed]",
      "text/plain": [
       "<Figure size 432x288 with 1 Axes>"
      ]
     },
     "metadata": {},
     "output_type": "display_data"
    },
    {
     "data": {
      "text/plain": [
       "<sympy.plotting.plot.Plot at 0x271c78d1898>"
      ]
     },
     "execution_count": 2,
     "metadata": {},
     "output_type": "execute_result"
    }
   ],
   "source": [
    "f=Lambda(x,((x-sin(x))/(2*pi))-0.3)\n",
    "plot(f(x),(x,0,6))"
   ]
  },
  {
   "cell_type": "markdown",
   "metadata": {
    "button": false,
    "new_sheet": false,
    "run_control": {
     "read_only": false
    }
   },
   "source": [
    "5.2 Utilisez `Sympy` pour définir une fonction d'itération `succ` qui, pour une fonction $f$ et à un intervalle donné $[a_k,b_k]$, fait correspondre l'intervalle emboité suivant $[a_{k+1},b_{k+1}]$. Plus précisément, la fonction `succ(f,a,b)`, appliquée à un intervalle contenant un zéro de la fonction $f$, donne un nouvel intervalle qui est emboité dans l'intervalle donné et qui contient un zéro de $f$. Ce nouvel intervalle est donné par la méthode de la sécante. Autrement dit, la fonction `succ` (comme \"successeur de l'intervalle\") réalise une itération de la méthode de la sécante."
   ]
  },
  {
   "cell_type": "code",
   "execution_count": 13,
   "metadata": {
    "button": false,
    "new_sheet": false,
    "run_control": {
     "read_only": false
    }
   },
   "outputs": [
    {
     "data": {
      "text/plain": [
       "(2.44919305639247, 3.00000000000000)"
      ]
     },
     "execution_count": 13,
     "metadata": {},
     "output_type": "execute_result"
    }
   ],
   "source": [
    "def succ(f,a,b):\n",
    "    x1 = secante(f,a,b)\n",
    "    if f(a)<0 and f(b)>0 :\n",
    "        return N(x1),N(b)\n",
    "    else : return N(a),N(x1)\n",
    "succ(f,2,3)"
   ]
  },
  {
   "cell_type": "markdown",
   "metadata": {
    "button": false,
    "new_sheet": false,
    "run_control": {
     "read_only": false
    }
   },
   "source": [
    "5.3 Utilisez la fonction `succ` précédente pour itérer la méthode $n$ fois (et appliquez pour $n=5$ sur l'intervalle $[a,b]$. Ecrivez la fonction `itere(n,a,b)` qui itère $n$ fois `succ` sur l'intervalle $[a,b]$ qui contient la racine"
   ]
  },
  {
   "cell_type": "code",
   "execution_count": 23,
   "metadata": {},
   "outputs": [
    {
     "data": {
      "text/plain": [
       "(2.49078426463533, 3.00000000000000)"
      ]
     },
     "execution_count": 23,
     "metadata": {},
     "output_type": "execute_result"
    }
   ],
   "source": [
    "def itere(f,n,a,b):\n",
    "    aa,bb = a,b\n",
    "    for i in range(n) :\n",
    "        s = succ(f,aa,bb)\n",
    "        aa,bb = s[0],s[1]\n",
    "    return aa,bb\n",
    "itere(f,5,2,3)"
   ]
  },
  {
   "cell_type": "code",
   "execution_count": 63,
   "metadata": {
    "button": false,
    "new_sheet": false,
    "run_control": {
     "read_only": false
    }
   },
   "outputs": [
    {
     "data": {
      "image/png": "[encoded data removed]",
      "text/latex": [
       "$$\\left ( 2.49078, \\quad 3.0\\right )$$"
      ],
      "text/plain": [
       "(2.49078, 3.0)"
      ]
     },
     "execution_count": 63,
     "metadata": {},
     "output_type": "execute_result"
    }
   ],
   "source": [
    "itere(f,5,2,3)"
   ]
  },
  {
   "cell_type": "markdown",
   "metadata": {
    "button": false,
    "new_sheet": false,
    "run_control": {
     "read_only": false
    }
   },
   "source": [
    "6. Comparez le résultat avec la méthode de résolution de `Sympy`"
   ]
  },
  {
   "cell_type": "code",
   "execution_count": 19,
   "metadata": {},
   "outputs": [
    {
     "data": {
      "text/plain": [
       "[]"
      ]
     },
     "execution_count": 19,
     "metadata": {},
     "output_type": "execute_result"
    }
   ],
   "source": [
    "eq = Eq(((x-sin(x))/(2*pi))-0.3,0)\n",
    "solve(eq,0)"
   ]
  },
  {
   "cell_type": "markdown",
   "metadata": {
    "button": false,
    "new_sheet": false,
    "run_control": {
     "read_only": false
    }
   },
   "source": [
    "7. (Facultatif) Comparez la vitesse de convergence de la méthode de la sécante avec celle de la dichotomie sur la fonction donnée en application."
   ]
  },
  {
   "cell_type": "code",
   "execution_count": 37,
   "metadata": {
    "button": false,
    "new_sheet": false,
    "run_control": {
     "read_only": false
    }
   },
   "outputs": [],
   "source": [
    "def dicoSearch(f,a,b,e):    \n",
    "    x=(a+b)/2    \n",
    "    aa,bb,sol,n=a,b,0,0\n",
    "    ecart = bb-aa\n",
    "    while abs(f(x)-sol)>e:\n",
    "        #print(abs(f(x)-sol),e)\n",
    "        if sign(f(x)) == 0:            \n",
    "            sol=x            \n",
    "            #print('solution')       \n",
    "        elif sign(f(x))==sign(f(aa)): aa=x        \n",
    "        elif sign(f(x))==sign(f(bb)): bb=x  \n",
    "        x=(aa+bb)/2     \n",
    "        n=n+1    \n",
    "    sol=x    \n",
    "    return((n,sol))"
   ]
  },
  {
   "cell_type": "code",
   "execution_count": 39,
   "metadata": {},
   "outputs": [
    {
     "name": "stdout",
     "output_type": "stream",
     "text": [
      "0.175639364649936 1e-05\n",
      "0.409626895229333 1e-05\n",
      "0.0932712802343052 1e-05\n",
      "0.0467108401729325 1e-05\n",
      "0.0218500529755719 1e-05\n",
      "0.0127817554598321 1e-05\n",
      "0.00444554352338145 1e-05\n",
      "0.00419016120232052 1e-05\n",
      "0.000122165372714589 1e-05\n",
      "0.00203537786247288 1e-05\n",
      "0.000956951419090024 1e-05\n",
      "0.000417479340162563 1e-05\n",
      "0.000147678565896037 1e-05\n",
      "1.27619924996658e-5 1e-05\n",
      "5.47003410844571e-5 1e-05\n",
      "2.09688370425010e-5 1e-05\n"
     ]
    },
    {
     "data": {
      "text/plain": [
       "(16, 0.567144775390625)"
      ]
     },
     "execution_count": 39,
     "metadata": {},
     "output_type": "execute_result"
    }
   ],
   "source": [
    "#dicoSearch(f,2.0,3.0,10*-5)\n",
    "dicoSearch(lambda x : x*E**x - 1,0.1,0.9,10**-5)"
   ]
  },
  {
   "cell_type": "code",
   "execution_count": 65,
   "metadata": {},
   "outputs": [
    {
     "name": "stdout",
     "output_type": "stream",
     "text": [
      "-0.3 + 0.950763927948022/pi 1e-05\n",
      "-0.735963401556039/pi + 0.3 1e-05\n",
      "-0.840657484023364/pi + 0.3 1e-05\n",
      "-0.895078741316428/pi + 0.3 1e-05\n",
      "-0.922769195742314/pi + 0.3 1e-05\n",
      "-0.936729275222821/pi + 0.3 1e-05\n",
      "-0.3 + 0.943737374448041/pi 1e-05\n",
      "-0.940231006191995/pi + 0.3 1e-05\n",
      "-0.941983612138791/pi + 0.3 1e-05\n",
      "-0.3 + 0.942860348933305/pi 1e-05\n",
      "-0.94242194442286/pi + 0.3 1e-05\n",
      "-0.3 + 0.94264113765268/pi 1e-05\n",
      "-0.3 + 0.942531538781058/pi 1e-05\n"
     ]
    },
    {
     "data": {
      "text/plain": [
       "(13, 2.49078369140625)"
      ]
     },
     "execution_count": 65,
     "metadata": {},
     "output_type": "execute_result"
    }
   ],
   "source": [
    "dicoSearch(f,2.0,3.0,0.00001)"
   ]
  },
  {
   "cell_type": "code",
   "execution_count": 59,
   "metadata": {},
   "outputs": [],
   "source": [
    "def regulaSearch(f,a,b,e) :\n",
    "    n = 0\n",
    "    s = succ(f,a,b)\n",
    "    sec = N(secante(f,a,b))\n",
    "    while abs(f(sec) - s[0])>e :\n",
    "        print(abs(f(sec) - s[0]))\n",
    "        n+=1\n",
    "        s = succ(f,s[0],s[1])\n",
    "        sec = N(secante(f,s[0],s[1]))\n",
    "        \n",
    "    return n,sec\n",
    "    "
   ]
  },
  {
   "cell_type": "code",
   "execution_count": 67,
   "metadata": {},
   "outputs": [
    {
     "data": {
      "text/plain": [
       "(2.49078426463533, 3.00000000000000)"
      ]
     },
     "execution_count": 67,
     "metadata": {},
     "output_type": "execute_result"
    }
   ],
   "source": [
    "itere(f,5,2,3)"
   ]
  },
  {
   "cell_type": "code",
   "execution_count": null,
   "metadata": {},
   "outputs": [],
   "source": []
  }
 ],
 "metadata": {
  "kernelspec": {
   "display_name": "Python 3",
   "language": "python",
   "name": "python3"
  },
  "language_info": {
   "codemirror_mode": {
    "name": "ipython",
    "version": 3
   },
   "file_extension": ".py",
   "mimetype": "text/x-python",
   "name": "python",
   "nbconvert_exporter": "python",
   "pygments_lexer": "ipython3",
   "version": "3.6.5"
  }
 },
 "nbformat": 4,
 "nbformat_minor": 2
}
