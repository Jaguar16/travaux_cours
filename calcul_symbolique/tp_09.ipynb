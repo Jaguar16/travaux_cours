{
 "cells": [
  {
   "cell_type": "markdown",
   "metadata": {},
   "source": [
    "# TP 9: Algèbre de Boole"
   ]
  },
  {
   "cell_type": "markdown",
   "metadata": {},
   "source": [
    "## 9.1 Une tautologie"
   ]
  },
  {
   "cell_type": "markdown",
   "metadata": {},
   "source": [
    "Montrez que $((p\\rightarrow q)\\wedge(q\\rightarrow r))\\rightarrow (p\\rightarrow r)$ est une tautologie (il y a plusieurs méthodes possibles !)"
   ]
  },
  {
   "cell_type": "code",
   "execution_count": 1,
   "metadata": {},
   "outputs": [
    {
     "data": {
      "text/plain": [
       "False"
      ]
     },
     "execution_count": 1,
     "metadata": {},
     "output_type": "execute_result"
    }
   ],
   "source": [
    "from sympy import *\n",
    "#init_printing()\n",
    "p,q,r = symbols('p q r')\n",
    "f = sympify('((p>>q) & (q>>r)) >> (p>>r)')\n",
    "satisfiable(~Equivalent(f,True))"
   ]
  },
  {
   "cell_type": "code",
   "execution_count": 17,
   "metadata": {},
   "outputs": [],
   "source": [
    "def BooleanTable(chaine_expr):\n",
    "        expr=sympify(chaine_expr)\n",
    "        variables=expr.free_symbols\n",
    "        for valuation in cartes([False,True],repeat=len(variables)):\n",
    "            valeur=dict(zip(variables,valuation))\n",
    "            print(tuple(valeur.items()),expr.subs(valeur))"
   ]
  },
  {
   "cell_type": "markdown",
   "metadata": {},
   "source": [
    "## 9.2 Etude d'une fonction Booléenne"
   ]
  },
  {
   "cell_type": "markdown",
   "metadata": {},
   "source": [
    "On souhaite faire l'étude d'une fonction définie par sa table de vérité: $011\\rightarrow 0$, $100\\rightarrow 0$, toutes les autres valeurs étant définies à vrai."
   ]
  },
  {
   "cell_type": "markdown",
   "metadata": {},
   "source": [
    "1. Définissez la fonction Booléenne à partir de sa table de vérité."
   ]
  },
  {
   "cell_type": "code",
   "execution_count": 24,
   "metadata": {},
   "outputs": [
    {
     "data": {
      "image/png": "[encoded data removed]",
      "text/latex": [
       "$$\\left(a \\wedge c\\right) \\vee \\left(b \\wedge \\neg c\\right) \\vee \\left(c \\wedge \\neg b\\right) \\vee \\left(\\neg a \\wedge \\neg b\\right) \\vee \\left(\\neg a \\wedge \\neg c\\right)$$"
      ],
      "text/plain": [
       "(a ∧ c) ∨ (b ∧ ¬c) ∨ (c ∧ ¬b) ∨ (¬a ∧ ¬b) ∨ (¬a ∧ ¬c)"
      ]
     },
     "execution_count": 24,
     "metadata": {},
     "output_type": "execute_result"
    }
   ],
   "source": [
    "a,b,c = symbols('a b c')\n",
    "minterms = [[0,0,0],[0,0,1],[0,1,0],[1,0,1],[1,1,0],[1,1,1]]\n",
    "f = SOPform([a,b,c],minterms)\n",
    "f"
   ]
  },
  {
   "cell_type": "markdown",
   "metadata": {},
   "source": [
    "2. Donnez en la forme normale conjonctive puis la forme normale disjonctive"
   ]
  },
  {
   "cell_type": "code",
   "execution_count": 35,
   "metadata": {},
   "outputs": [
    {
     "data": {
      "image/png": "[encoded data removed]",
      "text/latex": [
       "$$\\left(a \\wedge c\\right) \\vee \\left(b \\wedge \\neg c\\right) \\vee \\left(c \\wedge \\neg b\\right) \\vee \\left(\\neg a \\wedge \\neg b\\right) \\vee \\left(\\neg a \\wedge \\neg c\\right)$$"
      ],
      "text/plain": [
       "(a ∧ c) ∨ (b ∧ ¬c) ∨ (c ∧ ¬b) ∨ (¬a ∧ ¬b) ∨ (¬a ∧ ¬c)"
      ]
     },
     "execution_count": 35,
     "metadata": {},
     "output_type": "execute_result"
    }
   ],
   "source": [
    "FNC,FND = to_cnf(f), to_dnf(f)\n",
    "FND"
   ]
  },
  {
   "cell_type": "markdown",
   "metadata": {},
   "source": [
    "3. Pensez-vous pouvoir trouver une forme plus simple de cette fonction?"
   ]
  },
  {
   "cell_type": "markdown",
   "metadata": {},
   "source": [
    "Non, l'algo SOPform nous renvoie déjà la forme la plus réduite (ici, c'est aussi la FND)"
   ]
  },
  {
   "cell_type": "markdown",
   "metadata": {},
   "source": [
    "4. Quelles sont (toutes) les interprétations qui rendent vraie cette fonction?"
   ]
  },
  {
   "cell_type": "code",
   "execution_count": 29,
   "metadata": {},
   "outputs": [
    {
     "data": {
      "image/png": "[encoded data removed]",
      "text/latex": [
       "$$\\left [ \\left [ 0, \\quad 0, \\quad 0\\right ], \\quad \\left [ 0, \\quad 0, \\quad 1\\right ], \\quad \\left [ 0, \\quad 1, \\quad 0\\right ], \\quad \\left [ 1, \\quad 0, \\quad 1\\right ], \\quad \\left [ 1, \\quad 1, \\quad 0\\right ], \\quad \\left [ 1, \\quad 1, \\quad 1\\right ]\\right ]$$"
      ],
      "text/plain": [
       "[[0, 0, 0], [0, 0, 1], [0, 1, 0], [1, 0, 1], [1, 1, 0], [1, 1, 1]]"
      ]
     },
     "execution_count": 29,
     "metadata": {},
     "output_type": "execute_result"
    }
   ],
   "source": [
    "minterms"
   ]
  },
  {
   "cell_type": "markdown",
   "metadata": {},
   "source": [
    "5. Combien d'interprétation rendent vraie cette fonction?"
   ]
  },
  {
   "cell_type": "code",
   "execution_count": 32,
   "metadata": {},
   "outputs": [
    {
     "data": {
      "image/png": "[encoded data removed]",
      "text/latex": [
       "$$6$$"
      ],
      "text/plain": [
       "6"
      ]
     },
     "execution_count": 32,
     "metadata": {},
     "output_type": "execute_result"
    }
   ],
   "source": [
    "len(minterms)"
   ]
  },
  {
   "cell_type": "markdown",
   "metadata": {},
   "source": [
    "## 9.3 Fonction Booléenne duale"
   ]
  },
  {
   "cell_type": "markdown",
   "metadata": {},
   "source": [
    "On définit le dual d'une fontion Booléenne comme l'expression qu'on obtient en échangeant conjonctions et disjonctions, le vrai et le faux."
   ]
  },
  {
   "cell_type": "markdown",
   "metadata": {},
   "source": [
    "1. Ecrivez `dual` une fonction `Sympy` qui prend en entrée la fonction sous forme textuelle (comme dans la fonction `BooleanTable` du cours) et qui fournit en sortie la fonction duale sous forme textuelle. Utilisez la fonction `replace` pour cela.\n",
    "\n",
    "**Exemple:** \n",
    "`dual('(x&~y)|(y&~z)|(~x&z)')` retourne `'(x|~y)&(y|~z)&(~x|z)'`"
   ]
  },
  {
   "cell_type": "code",
   "execution_count": 15,
   "metadata": {},
   "outputs": [
    {
     "data": {
      "text/plain": [
       "'(x|~y)&(y|~z)&(~x|z)'"
      ]
     },
     "execution_count": 15,
     "metadata": {},
     "output_type": "execute_result"
    }
   ],
   "source": [
    "def dual(expr):\n",
    "    f = sympify(expr)\n",
    "    fnd = to_dnf(f)\n",
    "    if f==fnd:\n",
    "        l = expr.split('|')\n",
    "        s= \"\"\n",
    "        for c in l :\n",
    "            \n",
    "            if 'True' in c : c = c.replace('True','False')\n",
    "            elif 'False' in c : c = c.replace('False','True')\n",
    "            s = s + c.replace('&','|')+'&'\n",
    "        return s[:-1]\n",
    "    \n",
    "    \n",
    "    l = expr.split('&')\n",
    "    s= \"\"\n",
    "    for c in l :\n",
    "        if 'True' in c : c = c.replace('True','False')\n",
    "        elif 'False' in c : c = c.replace('False','True')\n",
    "        s = s + c.replace('|','&')+'|'    \n",
    "    return s[:-1]\n",
    "\n",
    "dual('(x&~y)|(y&~z)|(~x&z)')"
   ]
  },
  {
   "cell_type": "markdown",
   "metadata": {},
   "source": [
    "2. Calculez le dual de la fonction ci-dessus avec votre fonction"
   ]
  },
  {
   "cell_type": "code",
   "execution_count": 21,
   "metadata": {},
   "outputs": [],
   "source": [
    "d = dual('(x&~y)|(y&~z)|(~x&z)')\n",
    "dd = dual(d)"
   ]
  },
  {
   "cell_type": "markdown",
   "metadata": {},
   "source": [
    "2. Construisez la table de vérité de cette fonction et celle de la fonction de départ (le primal)."
   ]
  },
  {
   "cell_type": "code",
   "execution_count": 24,
   "metadata": {},
   "outputs": [
    {
     "name": "stdout",
     "output_type": "stream",
     "text": [
      "((y, False), (z, False), (x, False)) True\n",
      "((y, False), (z, False), (x, True)) False\n",
      "((y, False), (z, True), (x, False)) False\n",
      "((y, False), (z, True), (x, True)) False\n",
      "((y, True), (z, False), (x, False)) False\n",
      "((y, True), (z, False), (x, True)) False\n",
      "((y, True), (z, True), (x, False)) False\n",
      "((y, True), (z, True), (x, True)) True\n",
      "\n",
      "((y, False), (z, False), (x, False)) False\n",
      "((y, False), (z, False), (x, True)) True\n",
      "((y, False), (z, True), (x, False)) True\n",
      "((y, False), (z, True), (x, True)) True\n",
      "((y, True), (z, False), (x, False)) True\n",
      "((y, True), (z, False), (x, True)) True\n",
      "((y, True), (z, True), (x, False)) True\n",
      "((y, True), (z, True), (x, True)) False\n"
     ]
    }
   ],
   "source": [
    "BooleanTable(d) ; print() ; BooleanTable(dd)"
   ]
  },
  {
   "cell_type": "markdown",
   "metadata": {},
   "source": [
    "3. Que pouvez-vous déduire sur la construction de la table de vérité du dual à partir de la table de vérité du primal?"
   ]
  },
  {
   "cell_type": "markdown",
   "metadata": {},
   "source": [
    "La table de vérité de la première est la négation du mirroir de la deuxième"
   ]
  }
 ],
 "metadata": {
  "kernelspec": {
   "display_name": "Python 3",
   "language": "python",
   "name": "python3"
  },
  "language_info": {
   "codemirror_mode": {
    "name": "ipython",
    "version": 3
   },
   "file_extension": ".py",
   "mimetype": "text/x-python",
   "name": "python",
   "nbconvert_exporter": "python",
   "pygments_lexer": "ipython3",
   "version": "3.6.5"
  }
 },
 "nbformat": 4,
 "nbformat_minor": 2
}
