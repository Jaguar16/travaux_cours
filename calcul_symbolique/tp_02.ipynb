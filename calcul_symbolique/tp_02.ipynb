{
 "cells": [
  {
   "cell_type": "markdown",
   "metadata": {},
   "source": [
    "# TP2 Chaînes de caractères, dictionnaires et ensembles"
   ]
  },
  {
   "cell_type": "markdown",
   "metadata": {},
   "source": [
    "## 1. Opérations de base sur les ensembles"
   ]
  },
  {
   "cell_type": "markdown",
   "metadata": {},
   "source": [
    "1. Donnez dans $E1$ les éléments qui composent l'ensemble des parties de $\\{1,2,3\\}$"
   ]
  },
  {
   "cell_type": "code",
   "execution_count": 3,
   "metadata": {},
   "outputs": [
    {
     "data": {
      "image/png": "[encoded data removed]",
      "text/latex": [
       "$$\\left [ \\emptyset, \\quad \\left\\{1\\right\\}, \\quad \\left\\{1, 2\\right\\}, \\quad \\left\\{1, 3\\right\\}, \\quad \\left\\{2\\right\\}, \\quad \\left\\{3\\right\\}, \\quad \\left\\{2, 3\\right\\}, \\quad \\left\\{1, 2, 3\\right\\}\\right ]$$"
      ],
      "text/plain": [
       "[∅, {1}, {1, 2}, {1, 3}, {2}, {3}, {2, 3}, {1, 2, 3}]"
      ]
     },
     "execution_count": 3,
     "metadata": {},
     "output_type": "execute_result"
    }
   ],
   "source": [
    "from sympy import *\n",
    "from sympy.plotting import plot3d\n",
    "import matplotlib.pyplot as plt\n",
    "%matplotlib inline\n",
    "init_printing()\n",
    "\n",
    "E1 = list(FiniteSet(1,2,3).powerset())\n",
    "E1.sort()\n",
    "E1"
   ]
  },
  {
   "cell_type": "markdown",
   "metadata": {},
   "source": [
    "2. Calculez la liste de la somme des éléments de chaque sous-ensemble de $E1$"
   ]
  },
  {
   "cell_type": "code",
   "execution_count": 4,
   "metadata": {},
   "outputs": [
    {
     "data": {
      "image/png": "[encoded data removed]",
      "text/latex": [
       "$$\\left [ 0, \\quad 1, \\quad 3, \\quad 4, \\quad 2, \\quad 3, \\quad 5, \\quad 6\\right ]$$"
      ],
      "text/plain": [
       "[0, 1, 3, 4, 2, 3, 5, 6]"
      ]
     },
     "execution_count": 4,
     "metadata": {},
     "output_type": "execute_result"
    }
   ],
   "source": [
    "[sum(el) for el in E1]"
   ]
  },
  {
   "cell_type": "markdown",
   "metadata": {},
   "source": [
    "3. Construisez $A$, le sous ensemble de $E1$ qui contient les éléments dont la somme des éléments est inférieure ou égale à 3."
   ]
  },
  {
   "cell_type": "code",
   "execution_count": 5,
   "metadata": {},
   "outputs": [
    {
     "data": {
      "image/png": "[encoded data removed]",
      "text/latex": [
       "$$\\left\\{\\emptyset, \\left\\{1\\right\\}, \\left\\{2\\right\\}, \\left\\{3\\right\\}, \\left\\{1, 2\\right\\}\\right\\}$$"
      ],
      "text/plain": [
       "{∅, {1}, {2}, {3}, {1, 2}}"
      ]
     },
     "execution_count": 5,
     "metadata": {},
     "output_type": "execute_result"
    }
   ],
   "source": [
    "a = {el for el in E1 if sum(el)<=3}\n",
    "A = FiniteSet(*list(a))\n",
    "A"
   ]
  },
  {
   "cell_type": "markdown",
   "metadata": {},
   "source": [
    "4. Construisez $B$, l'ensemble des éléments de $E1$ de cardinalité paire"
   ]
  },
  {
   "cell_type": "code",
   "execution_count": 6,
   "metadata": {},
   "outputs": [
    {
     "data": {
      "image/png": "[encoded data removed]",
      "text/latex": [
       "$$\\left\\{\\emptyset, \\left\\{1, 2\\right\\}, \\left\\{1, 3\\right\\}, \\left\\{2, 3\\right\\}\\right\\}$$"
      ],
      "text/plain": [
       "{∅, {1, 2}, {1, 3}, {2, 3}}"
      ]
     },
     "execution_count": 6,
     "metadata": {},
     "output_type": "execute_result"
    }
   ],
   "source": [
    "b = {el for el in E1 if len(el)%2==0}\n",
    "B = FiniteSet(*list(b))\n",
    "B"
   ]
  },
  {
   "cell_type": "markdown",
   "metadata": {},
   "source": [
    "5. Donnez les élements de l'union, de l'intersection, de la différence et de la différence symétrique de $A$ et $B$. Le cas échéant, faites attention au type des résultats."
   ]
  },
  {
   "cell_type": "code",
   "execution_count": 7,
   "metadata": {},
   "outputs": [
    {
     "name": "stdout",
     "output_type": "stream",
     "text": [
      "{EmptySet(), {1}, {2}, {3}, {1, 2}, {1, 3}, {2, 3}}\n",
      "{EmptySet(), {1, 2}}\n",
      "{{1}, {2}, {3}}\n"
     ]
    }
   ],
   "source": [
    "print(A.union(B),\n",
    "A.intersection(B),\n",
    "A-B, sep='\\n')"
   ]
  },
  {
   "cell_type": "markdown",
   "metadata": {},
   "source": [
    "6. Calculez le produit cartésien de $A\\times B$"
   ]
  },
  {
   "cell_type": "code",
   "execution_count": 8,
   "metadata": {},
   "outputs": [
    {
     "data": {
      "image/png": "[encoded data removed]",
      "text/latex": [
       "$$\\left [ \\left ( \\left\\{1\\right\\}, \\quad \\left\\{1, 2\\right\\}\\right ), \\quad \\left ( \\left\\{1\\right\\}, \\quad \\left\\{1, 3\\right\\}\\right ), \\quad \\left ( \\left\\{1\\right\\}, \\quad \\left\\{2, 3\\right\\}\\right ), \\quad \\left ( \\left\\{1\\right\\}, \\quad \\emptyset\\right ), \\quad \\left ( \\left\\{1, 2\\right\\}, \\quad \\left\\{1, 2\\right\\}\\right ), \\quad \\left ( \\left\\{1, 2\\right\\}, \\quad \\left\\{1, 3\\right\\}\\right ), \\quad \\left ( \\left\\{1, 2\\right\\}, \\quad \\left\\{2, 3\\right\\}\\right ), \\quad \\left ( \\left\\{1, 2\\right\\}, \\quad \\emptyset\\right ), \\quad \\left ( \\left\\{2\\right\\}, \\quad \\left\\{1, 2\\right\\}\\right ), \\quad \\left ( \\left\\{2\\right\\}, \\quad \\left\\{1, 3\\right\\}\\right ), \\quad \\left ( \\left\\{2\\right\\}, \\quad \\left\\{2, 3\\right\\}\\right ), \\quad \\left ( \\left\\{2\\right\\}, \\quad \\emptyset\\right ), \\quad \\left ( \\left\\{3\\right\\}, \\quad \\left\\{1, 2\\right\\}\\right ), \\quad \\left ( \\left\\{3\\right\\}, \\quad \\left\\{1, 3\\right\\}\\right ), \\quad \\left ( \\left\\{3\\right\\}, \\quad \\left\\{2, 3\\right\\}\\right ), \\quad \\left ( \\left\\{3\\right\\}, \\quad \\emptyset\\right ), \\quad \\left ( \\emptyset, \\quad \\left\\{1, 2\\right\\}\\right ), \\quad \\left ( \\emptyset, \\quad \\left\\{1, 3\\right\\}\\right ), \\quad \\left ( \\emptyset, \\quad \\left\\{2, 3\\right\\}\\right ), \\quad \\left ( \\emptyset, \\quad \\emptyset\\right )\\right ]$$"
      ],
      "text/plain": [
       "[({1}, {1, 2}), ({1}, {1, 3}), ({1}, {2, 3}), ({1}, ∅), ({1, 2}, {1, 2}), ({1,\n",
       " 2}, {1, 3}), ({1, 2}, {2, 3}), ({1, 2}, ∅), ({2}, {1, 2}), ({2}, {1, 3}), ({2\n",
       "}, {2, 3}), ({2}, ∅), ({3}, {1, 2}), ({3}, {1, 3}), ({3}, {2, 3}), ({3}, ∅), (\n",
       "∅, {1, 2}), (∅, {1, 3}), (∅, {2, 3}), (∅, ∅)]"
      ]
     },
     "execution_count": 8,
     "metadata": {},
     "output_type": "execute_result"
    }
   ],
   "source": [
    "list(A*B)"
   ]
  },
  {
   "cell_type": "markdown",
   "metadata": {},
   "source": [
    "## 2. Calcul de la bijection de $N^2\\rightarrow N$"
   ]
  },
  {
   "cell_type": "markdown",
   "metadata": {},
   "source": [
    "1. La fonction $f(x,y)=y+(x+y)(x+y+1)/2$ permet de construire une bijection de $N^2\\rightarrow N$. Affichez-en les 121 premières valeurs (11 valeurs par ligne). On considérera la création d'une matrice par la fonction `f` (à 2 variables). Regardez la documentation sur la création de matrices."
   ]
  },
  {
   "cell_type": "code",
   "execution_count": 9,
   "metadata": {},
   "outputs": [
    {
     "data": {
      "image/png": "[encoded data removed]",
      "text/latex": [
       "$$13$$"
      ],
      "text/plain": [
       "13"
      ]
     },
     "execution_count": 9,
     "metadata": {},
     "output_type": "execute_result"
    }
   ],
   "source": [
    "x,y = symbols('x y')\n",
    "f = lambda x,y : int(y + (x+y)*(x+y+1)*(1/2))\n",
    "f(1,3)"
   ]
  },
  {
   "cell_type": "code",
   "execution_count": 10,
   "metadata": {},
   "outputs": [
    {
     "data": {
      "text/latex": [
       "$$\\left[\\begin{array}{ccccccccccc}0 & 2 & 5 & 9 & 14 & 20 & 27 & 35 & 44 & 54 & 65\\\\1 & 4 & 8 & 13 & 19 & 26 & 34 & 43 & 53 & 64 & 76\\\\3 & 7 & 12 & 18 & 25 & 33 & 42 & 52 & 63 & 75 & 88\\\\6 & 11 & 17 & 24 & 32 & 41 & 51 & 62 & 74 & 87 & 101\\\\10 & 16 & 23 & 31 & 40 & 50 & 61 & 73 & 86 & 100 & 115\\\\15 & 22 & 30 & 39 & 49 & 60 & 72 & 85 & 99 & 114 & 130\\\\21 & 29 & 38 & 48 & 59 & 71 & 84 & 98 & 113 & 129 & 146\\\\28 & 37 & 47 & 58 & 70 & 83 & 97 & 112 & 128 & 145 & 163\\\\36 & 46 & 57 & 69 & 82 & 96 & 111 & 127 & 144 & 162 & 181\\\\45 & 56 & 68 & 81 & 95 & 110 & 126 & 143 & 161 & 180 & 200\\\\55 & 67 & 80 & 94 & 109 & 125 & 142 & 160 & 179 & 199 & 220\\end{array}\\right]$$"
      ],
      "text/plain": [
       "⎡0   2   5   9   14   20   27   35   44   54   65 ⎤\n",
       "⎢                                                 ⎥\n",
       "⎢1   4   8   13  19   26   34   43   53   64   76 ⎥\n",
       "⎢                                                 ⎥\n",
       "⎢3   7   12  18  25   33   42   52   63   75   88 ⎥\n",
       "⎢                                                 ⎥\n",
       "⎢6   11  17  24  32   41   51   62   74   87   101⎥\n",
       "⎢                                                 ⎥\n",
       "⎢10  16  23  31  40   50   61   73   86   100  115⎥\n",
       "⎢                                                 ⎥\n",
       "⎢15  22  30  39  49   60   72   85   99   114  130⎥\n",
       "⎢                                                 ⎥\n",
       "⎢21  29  38  48  59   71   84   98   113  129  146⎥\n",
       "⎢                                                 ⎥\n",
       "⎢28  37  47  58  70   83   97   112  128  145  163⎥\n",
       "⎢                                                 ⎥\n",
       "⎢36  46  57  69  82   96   111  127  144  162  181⎥\n",
       "⎢                                                 ⎥\n",
       "⎢45  56  68  81  95   110  126  143  161  180  200⎥\n",
       "⎢                                                 ⎥\n",
       "⎣55  67  80  94  109  125  142  160  179  199  220⎦"
      ]
     },
     "execution_count": 10,
     "metadata": {},
     "output_type": "execute_result"
    }
   ],
   "source": [
    "Matrix(11,11,f)"
   ]
  },
  {
   "cell_type": "markdown",
   "metadata": {},
   "source": [
    "2. Affichez (par `plot3d`) les valeurs de la fonction `f` pour $0≤x≤10$ et $0≤y≤10$. Attention ! La fonction `plot3d` doit être explicitement importée de `sympy.plotting`"
   ]
  },
  {
   "cell_type": "code",
   "execution_count": 11,
   "metadata": {},
   "outputs": [
    {
     "data": {
      "image/png": "[encoded data removed]",
      "text/plain": [
       "<Figure size 432x288 with 1 Axes>"
      ]
     },
     "metadata": {
      "needs_background": "light"
     },
     "output_type": "display_data"
    },
    {
     "data": {
      "text/plain": [
       "<sympy.plotting.plot.Plot at 0x7f1143a4ef28>"
      ]
     },
     "execution_count": 11,
     "metadata": {},
     "output_type": "execute_result"
    }
   ],
   "source": [
    "plot3d(y + (x+y)*(x+y+1)*(1/2), (x, 0, 10), (y, 0, 10))"
   ]
  },
  {
   "cell_type": "markdown",
   "metadata": {},
   "source": [
    "3. Montrez grâce à `SymPy` que la fonction $f(x,y)$ ci-dessus est identique au polynôme de Cantor $g(x,y)=(3x+y+(x+y)^2)/2$. Considérez un changement de variable sur $g$ et développez les deux polynômes."
   ]
  },
  {
   "cell_type": "code",
   "execution_count": 12,
   "metadata": {},
   "outputs": [
    {
     "name": "stdout",
     "output_type": "stream",
     "text": [
      "0.5*x**2 + 1.0*x*y + 0.5*x + 0.5*y**2 + 1.5*y\n",
      "x**2/2 + x*y + 3*x/2 + y**2/2 + y/2\n"
     ]
    }
   ],
   "source": [
    "g = (3*x+y+(x+y)**2)/2\n",
    "print((y + (x+y)*(x+y+1)*(1/2)).expand(),\n",
    "g.expand(), sep = '\\n')"
   ]
  },
  {
   "cell_type": "markdown",
   "metadata": {},
   "source": [
    "## 3. Exercice sur les chaînes et les dictionnaires"
   ]
  },
  {
   "cell_type": "markdown",
   "metadata": {},
   "source": [
    "1. Ecrivez une fonction qui prend en entrée une chaîne de caractères, qui efface les espaces (s'il y en a) et qui retourne la chaîne de caractères privée de ses espaces. On considérera la méthode `replace()`."
   ]
  },
  {
   "cell_type": "code",
   "execution_count": 13,
   "metadata": {},
   "outputs": [
    {
     "data": {
      "text/plain": [
       "'cestunexemple'"
      ]
     },
     "execution_count": 13,
     "metadata": {},
     "output_type": "execute_result"
    }
   ],
   "source": [
    "def efface(s) : return s.replace(' ', '')\n",
    "efface(\"c est un exemple\")"
   ]
  },
  {
   "cell_type": "markdown",
   "metadata": {},
   "source": [
    "2. Ecrivez une fonction `occurrences()` qui prend en entrée une chaîne de caractères et retourne  le nombre d'occurrences des lettres de l'alphabet {a,...,z} dans un dictionnaire."
   ]
  },
  {
   "cell_type": "code",
   "execution_count": 14,
   "metadata": {},
   "outputs": [
    {
     "data": {
      "text/plain": [
       "{'a': 0,\n",
       " 'b': 0,\n",
       " 'c': 1,\n",
       " 'd': 0,\n",
       " 'e': 4,\n",
       " 'f': 0,\n",
       " 'g': 0,\n",
       " 'h': 0,\n",
       " 'i': 0,\n",
       " 'j': 0,\n",
       " 'k': 0,\n",
       " 'l': 1,\n",
       " 'm': 1,\n",
       " 'n': 1,\n",
       " 'o': 0,\n",
       " 'p': 1,\n",
       " 'q': 0,\n",
       " 'r': 0,\n",
       " 's': 1,\n",
       " 't': 1,\n",
       " 'u': 1,\n",
       " 'v': 0,\n",
       " 'w': 0,\n",
       " 'x': 1,\n",
       " 'y': 0,\n",
       " 'z': 0}"
      ]
     },
     "execution_count": 14,
     "metadata": {},
     "output_type": "execute_result"
    }
   ],
   "source": [
    "def occurrences(s):\n",
    "    return {chr(c):s.count(chr(c)) for c in range(ord('a'),ord('z')+1)}\n",
    "val=occurrences(efface(\"c est un exemple\"))\n",
    "val"
   ]
  },
  {
   "cell_type": "markdown",
   "metadata": {},
   "source": [
    "3. Transformez le dictionnaire obtenu précédemment pour que les valeurs soient exprimées selon un pourcentage"
   ]
  },
  {
   "cell_type": "code",
   "execution_count": 15,
   "metadata": {},
   "outputs": [
    {
     "data": {
      "text/plain": [
       "{'a': 0.0,\n",
       " 'b': 0.0,\n",
       " 'c': 7.69,\n",
       " 'd': 0.0,\n",
       " 'e': 30.77,\n",
       " 'f': 0.0,\n",
       " 'g': 0.0,\n",
       " 'h': 0.0,\n",
       " 'i': 0.0,\n",
       " 'j': 0.0,\n",
       " 'k': 0.0,\n",
       " 'l': 7.69,\n",
       " 'm': 7.69,\n",
       " 'n': 7.69,\n",
       " 'o': 0.0,\n",
       " 'p': 7.69,\n",
       " 'q': 0.0,\n",
       " 'r': 0.0,\n",
       " 's': 7.69,\n",
       " 't': 7.69,\n",
       " 'u': 7.69,\n",
       " 'v': 0.0,\n",
       " 'w': 0.0,\n",
       " 'x': 7.69,\n",
       " 'y': 0.0,\n",
       " 'z': 0.0}"
      ]
     },
     "execution_count": 15,
     "metadata": {},
     "output_type": "execute_result"
    }
   ],
   "source": [
    "somme = sum(val.values())\n",
    "val_100 = {c:round(val[c]*100/somme,2) for c in val}\n",
    "val_100"
   ]
  },
  {
   "cell_type": "markdown",
   "metadata": {},
   "source": [
    "4. Affichez l'histogramme des fréquences des lettres"
   ]
  },
  {
   "cell_type": "code",
   "execution_count": 16,
   "metadata": {},
   "outputs": [
    {
     "data": {
      "text/plain": [
       "<BarContainer object of 26 artists>"
      ]
     },
     "execution_count": 16,
     "metadata": {},
     "output_type": "execute_result"
    },
    {
     "data": {
      "image/png": "[encoded data removed]",
      "text/plain": [
       "<Figure size 432x288 with 1 Axes>"
      ]
     },
     "metadata": {
      "needs_background": "light"
     },
     "output_type": "display_data"
    }
   ],
   "source": [
    "plt.bar(list(val_100.keys()),val_100.values(),color='r')"
   ]
  },
  {
   "cell_type": "markdown",
   "metadata": {},
   "source": [
    "5. Écrire une fonction qui chiffre (et déchiffre) en utilisant le chiffre de César (décalage des lettres de $k$ positions vers la droite modulo 26). On supposera que le texte est écrit sur l'alphabet {a,..,z} sans caractères accentués (ou on le nettoiera en utilisant la fonction du cours) et dans lequel les espaces ont été retirés."
   ]
  },
  {
   "cell_type": "code",
   "execution_count": 17,
   "metadata": {},
   "outputs": [
    {
     "data": {
      "text/plain": [
       "'xqehohahpsoh'"
      ]
     },
     "execution_count": 17,
     "metadata": {},
     "output_type": "execute_result"
    }
   ],
   "source": [
    "def cesar(m,k) :\n",
    "    m = efface(m)\n",
    "    alphaB = [chr(i) for i in range(ord('a'),ord('z')+1)]\n",
    "    s = ''\n",
    "    for c in m :\n",
    "        index = alphaB.index(c)\n",
    "        s = s + alphaB[(index+k)%26]\n",
    "    return s\n",
    "    \n",
    "    \n",
    "    \n",
    "crypt=cesar(\"un bel exemple\",3)\n",
    "crypt"
   ]
  },
  {
   "cell_type": "code",
   "execution_count": 18,
   "metadata": {},
   "outputs": [
    {
     "data": {
      "text/plain": [
       "'unbelexemple'"
      ]
     },
     "execution_count": 18,
     "metadata": {},
     "output_type": "execute_result"
    }
   ],
   "source": [
    "clair=cesar(crypt,-3)\n",
    "clair"
   ]
  },
  {
   "cell_type": "markdown",
   "metadata": {},
   "source": [
    "6. Affichez l'histogramme des fréquences des lettres du texte clair puis du texte chiffré par le chiffre de César."
   ]
  },
  {
   "cell_type": "code",
   "execution_count": 19,
   "metadata": {},
   "outputs": [
    {
     "data": {
      "text/plain": [
       "<BarContainer object of 26 artists>"
      ]
     },
     "execution_count": 19,
     "metadata": {},
     "output_type": "execute_result"
    },
    {
     "data": {
      "image/png": "[encoded data removed]",
      "text/plain": [
       "<Figure size 432x288 with 1 Axes>"
      ]
     },
     "metadata": {
      "needs_background": "light"
     },
     "output_type": "display_data"
    }
   ],
   "source": [
    "def histogramme(s) :\n",
    "    val = occurrences(s)\n",
    "    somme = sum(val.values())\n",
    "    val_100 = {c:round(val[c]*100/somme,2) for c in val}\n",
    "    val_100\n",
    "    return plt.bar(list(val_100.keys()),val_100.values(),color='r')\n",
    "histogramme(clair)"
   ]
  },
  {
   "cell_type": "code",
   "execution_count": 20,
   "metadata": {},
   "outputs": [
    {
     "data": {
      "text/plain": [
       "<BarContainer object of 26 artists>"
      ]
     },
     "execution_count": 20,
     "metadata": {},
     "output_type": "execute_result"
    },
    {
     "data": {
      "image/png": "[encoded data removed]",
      "text/plain": [
       "<Figure size 432x288 with 1 Axes>"
      ]
     },
     "metadata": {
      "needs_background": "light"
     },
     "output_type": "display_data"
    }
   ],
   "source": [
    "histogramme(crypt)"
   ]
  },
  {
   "cell_type": "markdown",
   "metadata": {},
   "source": [
    "7. Que pouvez-vous en déduire ?"
   ]
  },
  {
   "cell_type": "code",
   "execution_count": 21,
   "metadata": {},
   "outputs": [],
   "source": [
    "#Les histogrammes sont les mêmes, les codes encryptés peuvent être trouvé rapidement (26 tentatives max)"
   ]
  },
  {
   "cell_type": "markdown",
   "metadata": {},
   "source": [
    "8. Faites la cryptanalyse du texte chiffré 'npdeqlntwpopeczfgpcolydnpepipxawp'"
   ]
  },
  {
   "cell_type": "code",
   "execution_count": 22,
   "metadata": {},
   "outputs": [
    {
     "name": "stdout",
     "output_type": "stream",
     "text": [
      "0 npdeqlntwpopeczfgpcolydnpepipxawp\n",
      "1 mocdpkmsvonodbyefobnkxcmodohowzvo\n",
      "2 lnbcojlrunmncaxdenamjwblncngnvyun\n",
      "3 kmabnikqtmlmbzwcdmzlivakmbmfmuxtm\n",
      "4 jlzamhjpslklayvbclykhuzjlaleltwsl\n",
      "5 ikyzlgiorkjkzxuabkxjgtyikzkdksvrk\n",
      "6 hjxykfhnqjijywtzajwifsxhjyjcjruqj\n",
      "7 giwxjegmpihixvsyzivherwgixibiqtpi\n",
      "8 fhvwidflohghwurxyhugdqvfhwhahpsoh\n",
      "9 eguvhcekngfgvtqwxgtfcpuegvgzgorng\n",
      "10 dftugbdjmfefuspvwfsebotdfufyfnqmf\n",
      "11 cestfaciledetrouverdanscetexemple\n",
      "12 bdrsezbhkdcdsqntudqczmrbdsdwdlokd\n",
      "13 acqrdyagjcbcrpmstcpbylqacrcvcknjc\n",
      "14 zbpqcxzfibabqolrsboaxkpzbqbubjmib\n",
      "15 yaopbwyehazapnkqranzwjoyapatailha\n",
      "16 xznoavxdgzyzomjpqzmyvinxzozszhkgz\n",
      "17 wymnzuwcfyxynliopylxuhmwynyrygjfy\n",
      "18 vxlmytvbexwxmkhnoxkwtglvxmxqxfiex\n",
      "19 uwklxsuadwvwljgmnwjvsfkuwlwpwehdw\n",
      "20 tvjkwrtzcvuvkiflmviurejtvkvovdgcv\n",
      "21 suijvqsybutujhekluhtqdisujunucfbu\n",
      "22 rthiuprxatstigdjktgspchrtitmtbeat\n",
      "23 qsghtoqwzsrshfcijsfrobgqshslsadzs\n",
      "24 prfgsnpvyrqrgebhireqnafprgrkrzcyr\n",
      "25 oqefrmouxqpqfdaghqdpmzeoqfqjqybxq\n"
     ]
    }
   ],
   "source": [
    "def decrypt(s) :\n",
    "    for i in range(26) :\n",
    "        print( i,cesar(s,-i))\n",
    "decrypt('npdeqlntwpopeczfgpcolydnpepipxawp')"
   ]
  },
  {
   "cell_type": "markdown",
   "metadata": {},
   "source": [
    "9. Mesurez le temps CPU pris par le programme de cryptanalyse (considérez la commande magique `%%time`)"
   ]
  },
  {
   "cell_type": "code",
   "execution_count": 23,
   "metadata": {},
   "outputs": [
    {
     "name": "stdout",
     "output_type": "stream",
     "text": [
      "0 npdeqlntwpopeczfgpcolydnpepipxawp\n",
      "1 mocdpkmsvonodbyefobnkxcmodohowzvo\n",
      "2 lnbcojlrunmncaxdenamjwblncngnvyun\n",
      "3 kmabnikqtmlmbzwcdmzlivakmbmfmuxtm\n",
      "4 jlzamhjpslklayvbclykhuzjlaleltwsl\n",
      "5 ikyzlgiorkjkzxuabkxjgtyikzkdksvrk\n",
      "6 hjxykfhnqjijywtzajwifsxhjyjcjruqj\n",
      "7 giwxjegmpihixvsyzivherwgixibiqtpi\n",
      "8 fhvwidflohghwurxyhugdqvfhwhahpsoh\n",
      "9 eguvhcekngfgvtqwxgtfcpuegvgzgorng\n",
      "10 dftugbdjmfefuspvwfsebotdfufyfnqmf\n",
      "11 cestfaciledetrouverdanscetexemple\n",
      "12 bdrsezbhkdcdsqntudqczmrbdsdwdlokd\n",
      "13 acqrdyagjcbcrpmstcpbylqacrcvcknjc\n",
      "14 zbpqcxzfibabqolrsboaxkpzbqbubjmib\n",
      "15 yaopbwyehazapnkqranzwjoyapatailha\n",
      "16 xznoavxdgzyzomjpqzmyvinxzozszhkgz\n",
      "17 wymnzuwcfyxynliopylxuhmwynyrygjfy\n",
      "18 vxlmytvbexwxmkhnoxkwtglvxmxqxfiex\n",
      "19 uwklxsuadwvwljgmnwjvsfkuwlwpwehdw\n",
      "20 tvjkwrtzcvuvkiflmviurejtvkvovdgcv\n",
      "21 suijvqsybutujhekluhtqdisujunucfbu\n",
      "22 rthiuprxatstigdjktgspchrtitmtbeat\n",
      "23 qsghtoqwzsrshfcijsfrobgqshslsadzs\n",
      "24 prfgsnpvyrqrgebhireqnafprgrkrzcyr\n",
      "25 oqefrmouxqpqfdaghqdpmzeoqfqjqybxq\n",
      "CPU times: user 3.71 ms, sys: 193 µs, total: 3.9 ms\n",
      "Wall time: 3.11 ms\n"
     ]
    }
   ],
   "source": [
    "%%time\n",
    "decrypt('npdeqlntwpopeczfgpcolydnpepipxawp')"
   ]
  },
  {
   "cell_type": "markdown",
   "metadata": {},
   "source": [
    "10. Pour les plus avancés, transformez le chiffrement qui se fait par une addition %26 par une multiplication %26. Attention toutefois, la valeur de la clé doit être inversible dans les entiers modulo 26 (considérez l'algorithme d'Euclide étendu qui donne les coefficients de Bézout)."
   ]
  },
  {
   "cell_type": "code",
   "execution_count": 24,
   "metadata": {},
   "outputs": [
    {
     "data": {
      "text/plain": [
       "'cnrqfqbqwvfq'"
      ]
     },
     "execution_count": 24,
     "metadata": {},
     "output_type": "execute_result"
    }
   ],
   "source": [
    "def gcd_et(a,b):\n",
    "    d,u,v,d1,u1,v1=a,1,0,b,0,1\n",
    "    while d1!=0:\n",
    "        q=d//d1\n",
    "        d,u,v,d1,u1,v1=d1,u1,v1,d-q*d1,u-q*u1,v-q*v1\n",
    "    return (u,v,d)\n",
    "\n",
    "\n",
    "def cesar2(m,k) :\n",
    "    m = efface(m)\n",
    "    alphaB = [chr(i) for i in range(ord('a'),ord('z')+1)]\n",
    "    s = ''\n",
    "    for c in m :\n",
    "        index = alphaB.index(c)\n",
    "        if gcd_et(index,k)[0]!=1 : s = s + c\n",
    "        else : s = s + alphaB[(index*k)%26]\n",
    "    return s\n",
    "cesar2(clair,17)"
   ]
  },
  {
   "cell_type": "code",
   "execution_count": 52,
   "metadata": {},
   "outputs": [
    {
     "data": {
      "image/png": "[encoded data removed]",
      "text/latex": [
       "$$\\left ( -1457, \\quad 1, \\quad 1\\right )$$"
      ],
      "text/plain": [
       "(-1457, 1, 1)"
      ]
     },
     "execution_count": 52,
     "metadata": {},
     "output_type": "execute_result"
    }
   ],
   "source": [
    "gcdex(7,10200)"
   ]
  },
  {
   "cell_type": "code",
   "execution_count": 31,
   "metadata": {},
   "outputs": [
    {
     "data": {
      "image/png": "[encoded data removed]",
      "text/latex": [
       "$$\\left \\{ 2 : 5, \\quad 7 : 1\\right \\}$$"
      ],
      "text/plain": [
       "{2: 5, 7: 1}"
      ]
     },
     "execution_count": 31,
     "metadata": {},
     "output_type": "execute_result"
    }
   ],
   "source": [
    "factorint(224)"
   ]
  },
  {
   "cell_type": "code",
   "execution_count": 35,
   "metadata": {},
   "outputs": [
    {
     "data": {
      "image/png": "[encoded data removed]",
      "text/latex": [
       "$$96$$"
      ],
      "text/plain": [
       "96"
      ]
     },
     "execution_count": 35,
     "metadata": {},
     "output_type": "execute_result"
    }
   ],
   "source": [
    "((2**5)-(2**4))*(7-1)"
   ]
  },
  {
   "cell_type": "code",
   "execution_count": 51,
   "metadata": {},
   "outputs": [
    {
     "data": {
      "image/png": "[encoded data removed]",
      "text/latex": [
       "$$1$$"
      ],
      "text/plain": [
       "1"
      ]
     },
     "execution_count": 51,
     "metadata": {},
     "output_type": "execute_result"
    }
   ],
   "source": [
    "7*8743%10200"
   ]
  },
  {
   "cell_type": "code",
   "execution_count": 37,
   "metadata": {},
   "outputs": [
    {
     "data": {
      "image/png": "[encoded data removed]",
      "text/latex": [
       "$$71867$$"
      ],
      "text/plain": [
       "71867"
      ]
     },
     "execution_count": 37,
     "metadata": {},
     "output_type": "execute_result"
    }
   ],
   "source": [
    "randprime(10**4,10**5)"
   ]
  },
  {
   "cell_type": "code",
   "execution_count": 47,
   "metadata": {},
   "outputs": [
    {
     "data": {
      "image/png": "[encoded data removed]",
      "text/latex": [
       "$$10403$$"
      ],
      "text/plain": [
       "10403"
      ]
     },
     "execution_count": 47,
     "metadata": {},
     "output_type": "execute_result"
    }
   ],
   "source": [
    "nextprime(100)*nextprime(101)"
   ]
  },
  {
   "cell_type": "code",
   "execution_count": 54,
   "metadata": {},
   "outputs": [
    {
     "data": {
      "image/png": "[encoded data removed]",
      "text/latex": [
       "$$1200$$"
      ],
      "text/plain": [
       "1200"
      ]
     },
     "execution_count": 54,
     "metadata": {},
     "output_type": "execute_result"
    }
   ],
   "source": [
    "(90**7)%10200"
   ]
  },
  {
   "cell_type": "code",
   "execution_count": null,
   "metadata": {},
   "outputs": [],
   "source": []
  }
 ],
 "metadata": {
  "kernelspec": {
   "display_name": "Python 3",
   "language": "python",
   "name": "python3"
  },
  "language_info": {
   "codemirror_mode": {
    "name": "ipython",
    "version": 3
   },
   "file_extension": ".py",
   "mimetype": "text/x-python",
   "name": "python",
   "nbconvert_exporter": "python",
   "pygments_lexer": "ipython3",
   "version": "3.6.6"
  }
 },
 "nbformat": 4,
 "nbformat_minor": 2
}
