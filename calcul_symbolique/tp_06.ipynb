{
 "cells": [
  {
   "cell_type": "markdown",
   "metadata": {},
   "source": [
    "# TP 6 : Programmation et complexité"
   ]
  },
  {
   "cell_type": "markdown",
   "metadata": {},
   "source": [
    "## 1. Un tri simple : le tri à bulle"
   ]
  },
  {
   "cell_type": "markdown",
   "metadata": {},
   "source": [
    "1. Dans un premier temps, écrivez une fonction `echange` qui réalise l'échange de deux éléments adjacents: l'élément d'indice $i$ et celui d'indice $i+1$. Sur une liste `L=[5, 9, 17, 18, 3, 2, 14, 8, 19, 13, 10]` la fonction `echange(L,4)` retourne `[5, 9, 17, 18, 2, 3, 14, 8, 19, 13, 10]`."
   ]
  },
  {
   "cell_type": "code",
   "execution_count": 25,
   "metadata": {},
   "outputs": [
    {
     "data": {
      "text/plain": [
       "[5, 9, 17, 18, 2, 3, 14, 8, 19, 13, 10]"
      ]
     },
     "execution_count": 25,
     "metadata": {},
     "output_type": "execute_result"
    }
   ],
   "source": [
    "from sympy import *\n",
    "import timeit\n",
    "L=[5, 9, 17, 18, 3, 2, 14, 8, 19, 13, 10]\n",
    "\n",
    "def echange(L,n) :\n",
    "    assert n < len(L)-1\n",
    "    L[n],L[n+1] = L[n+1],L[n]\n",
    "    return L\n",
    "\n",
    "echange(L,4)"
   ]
  },
  {
   "cell_type": "markdown",
   "metadata": {},
   "source": [
    "2. Dans un deuxième temps implémentez le tri par bulle (triBulle) qui répète l'échange de deux éléments adjacents. Cet échange est répété autant de fois que la longueur de la liste (moins le nombre d'éléments qui ont été rangé à la bonne place, soit 1 par itération)"
   ]
  },
  {
   "cell_type": "code",
   "execution_count": 35,
   "metadata": {},
   "outputs": [
    {
     "data": {
      "text/plain": [
       "[1, 2, 3, 4, 5, 6]"
      ]
     },
     "execution_count": 35,
     "metadata": {},
     "output_type": "execute_result"
    }
   ],
   "source": [
    "L=[6,3,4,2,5,1]\n",
    "\n",
    "def triBulle(L):\n",
    "    n = len(L)\n",
    "    for i in range(n-1):\n",
    "        for j in range(n-i-1):\n",
    "            if L[j]>L[j+1] : echange(L,j)\n",
    "            #print(\"i =\",i,\" : \", \"j =\",j,\" : \", \"L =\",L, end='\\n')\n",
    "    return L\n",
    "\n",
    "triBulle(L)"
   ]
  },
  {
   "cell_type": "markdown",
   "metadata": {},
   "source": [
    "3. Montrez expérimentalement que la complexité du tri à bulle est quadratique et trouvez les coefficients du polynôme de degré 2 qui correspond."
   ]
  },
  {
   "cell_type": "code",
   "execution_count": 40,
   "metadata": {},
   "outputs": [
    {
     "name": "stdout",
     "output_type": "stream",
     "text": [
      "0.004877527000644477 0.007019144000878441\n"
     ]
    }
   ],
   "source": [
    "from functools import partial\n",
    "t = timeit.Timer(partial(triBulle,L))\n",
    "t1 = timeit.Timer(partial(triBulle,[1,4,7,8,5,3,9]))\n",
    "print(t.timeit(1000),\n",
    "    t1.timeit(1000))"
   ]
  },
  {
   "cell_type": "markdown",
   "metadata": {},
   "source": [
    "## 2. Comparaison des algorithmes de tri"
   ]
  },
  {
   "cell_type": "markdown",
   "metadata": {},
   "source": [
    "Le cours a rappelé le tri rapide, vous avez programmé le tri à bulle et `Python` implémente une fonction de tri (`sort`, déjà utilisée en TP). Sur un même jeu de données, comparez graphiquement la complexité de ces trois tris et essayez, pour chacun d'entre eux, de trouver une fonction d'approximation de la complexité."
   ]
  },
  {
   "cell_type": "markdown",
   "metadata": {},
   "source": [
    "## 3. Décider si une liste est triée"
   ]
  },
  {
   "cell_type": "markdown",
   "metadata": {},
   "source": [
    "1. Pour utiliser la recherche dichotomique, il est nécessaire d'avoir une liste triée. Écrivez la fonction `estTrie` qui renvoie`True` si la liste fournie en entrée est triée et `False` sinon."
   ]
  },
  {
   "cell_type": "markdown",
   "metadata": {},
   "source": [
    "2. Améliorez la fonction de recherche dichotomique pour qu'elle teste au préalable si la liste fournie en entrée est triée ou non. Si elle ne l'est pas, triez-la par la fonction de tri la plus efficace."
   ]
  },
  {
   "cell_type": "markdown",
   "metadata": {},
   "source": [
    "3. Pensez-vous qu'il est intéressant (du point de vue de la complexité en temps) de tester si la liste est triée avant de faire une recherche dichotomique? (vérifiez les complexité avec et sans décider si la liste est triée)."
   ]
  },
  {
   "cell_type": "markdown",
   "metadata": {},
   "source": [
    "## 4. Complexité de la recherche dichotomique"
   ]
  },
  {
   "cell_type": "markdown",
   "metadata": {},
   "source": [
    "1. Vérifiez expérimentalement que la complexité de la recherche dichotomique (dans une liste triée) est logarithmique. On rappelle que cette complexité est maximale lorsqu'on cherche un élément qui n'est pas dans la liste."
   ]
  }
 ],
 "metadata": {
  "kernelspec": {
   "display_name": "Python 3",
   "language": "python",
   "name": "python3"
  },
  "language_info": {
   "codemirror_mode": {
    "name": "ipython",
    "version": 3
   },
   "file_extension": ".py",
   "mimetype": "text/x-python",
   "name": "python",
   "nbconvert_exporter": "python",
   "pygments_lexer": "ipython3",
   "version": "3.6.6"
  }
 },
 "nbformat": 4,
 "nbformat_minor": 2
}
