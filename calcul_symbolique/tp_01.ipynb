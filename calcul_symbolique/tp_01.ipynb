{
 "cells": [
  {
   "cell_type": "code",
   "execution_count": 1,
   "metadata": {},
   "outputs": [],
   "source": [
    "from sympy import *\n",
    "init_printing()\n",
    "%matplotlib inline"
   ]
  },
  {
   "cell_type": "code",
   "execution_count": 2,
   "metadata": {},
   "outputs": [],
   "source": [
    "x = symbols('x') #---------------------Exo 1 ----------------------#"
   ]
  },
  {
   "cell_type": "code",
   "execution_count": 3,
   "metadata": {},
   "outputs": [],
   "source": [
    "# ---------------1.1 -------------- #"
   ]
  },
  {
   "cell_type": "code",
   "execution_count": 4,
   "metadata": {},
   "outputs": [],
   "source": [
    "def f(x) : return (x+2+(3*x+5))/(x+2)**2\n",
    "# ------ ou ---------- #\n",
    "f = lambdify(x, sympify(\"(x+2+(3*x+5))/(x+2)**2\"))\n",
    "# ------ ou ---------- #\n",
    "f = Lambda([x], (x+2+(3*x+5))/(x+2)**2)\n"
   ]
  },
  {
   "cell_type": "code",
   "execution_count": 5,
   "metadata": {},
   "outputs": [],
   "source": [
    "# ------------- 1.2 ------------------ #"
   ]
  },
  {
   "cell_type": "code",
   "execution_count": 6,
   "metadata": {},
   "outputs": [
    {
     "name": "stdout",
     "output_type": "stream",
     "text": [
      "4/(x + 2)**2 - 2*(4*x + 7)/(x + 2)**3\n",
      "[-3/2]\n"
     ]
    }
   ],
   "source": [
    "f_prime = diff(f(x),x)\n",
    "print(f_prime)\n",
    "sol = solve(Eq(f_prime,0),x)\n",
    "print(sol)"
   ]
  },
  {
   "cell_type": "code",
   "execution_count": 7,
   "metadata": {},
   "outputs": [],
   "source": [
    "# ------------- 1.3 ------------------ #"
   ]
  },
  {
   "cell_type": "code",
   "execution_count": 8,
   "metadata": {},
   "outputs": [
    {
     "name": "stdout",
     "output_type": "stream",
     "text": [
      "On exprime sous forme factorisée -2*(2*x + 3)/(x + 2)**3, on vérifie : c'est True\n"
     ]
    }
   ],
   "source": [
    "fact = factor(f_prime)\n",
    "verif = fact.subs(x,Rational(-3,2))\n",
    "print(\"On exprime sous forme factorisée {}, on vérifie : c'est {}\".format(fact, verif==0))"
   ]
  },
  {
   "cell_type": "code",
   "execution_count": 9,
   "metadata": {},
   "outputs": [],
   "source": [
    "# ------------- 1.4 ------------------ #"
   ]
  },
  {
   "cell_type": "code",
   "execution_count": 10,
   "metadata": {},
   "outputs": [
    {
     "name": "stdout",
     "output_type": "stream",
     "text": [
      "limite de f(x) quand x -> +oo, -oo et 2 sont : \n"
     ]
    },
    {
     "data": {
      "image/png": "[encoded data removed]",
      "text/latex": [
       "$$\\left ( 0, \\quad 0, \\quad \\frac{15}{16}\\right )$$"
      ],
      "text/plain": [
       "⎛      15⎞\n",
       "⎜0, 0, ──⎟\n",
       "⎝      16⎠"
      ]
     },
     "execution_count": 10,
     "metadata": {},
     "output_type": "execute_result"
    }
   ],
   "source": [
    "l_1 = limit(f(x),x,+oo)\n",
    "l_2 = limit(f(x),x,-oo)\n",
    "l_3 = limit(f(x),x,2)\n",
    "\n",
    "print(\"limite de f(x) quand x -> +oo, -oo et 2 sont : \");l_1, l_2 ,l_3"
   ]
  },
  {
   "cell_type": "code",
   "execution_count": 11,
   "metadata": {},
   "outputs": [],
   "source": [
    "# ------------- 1.5 ------------------ #"
   ]
  },
  {
   "cell_type": "code",
   "execution_count": 12,
   "metadata": {},
   "outputs": [
    {
     "name": "stdout",
     "output_type": "stream",
     "text": [
      "DL à l'ordre 4 de f(x) au voisinnage de 0 = \n"
     ]
    },
    {
     "data": {
      "image/png": "[encoded data removed]",
      "text/latex": [
       "$$\\frac{7}{4} - \\frac{3 x}{4} + \\frac{5 x^{2}}{16} - \\frac{x^{3}}{8} + O\\left(x^{4}\\right)$$"
      ],
      "text/plain": [
       "             2    3        \n",
       "7   3⋅x   5⋅x    x     ⎛ 4⎞\n",
       "─ - ─── + ──── - ── + O⎝x ⎠\n",
       "4    4     16    8         "
      ]
     },
     "execution_count": 12,
     "metadata": {},
     "output_type": "execute_result"
    }
   ],
   "source": [
    "DL_4 = series(f(x),x, 0,4)\n",
    "print(\"DL à l'ordre 4 de f(x) au voisinnage de 0 = \"); DL_4"
   ]
  },
  {
   "cell_type": "code",
   "execution_count": 13,
   "metadata": {},
   "outputs": [],
   "source": [
    "# ------------- 1.6 ------------------ #"
   ]
  },
  {
   "cell_type": "code",
   "execution_count": 14,
   "metadata": {},
   "outputs": [
    {
     "data": {
      "image/png": "[encoded data removed]",
      "text/plain": [
       "<Figure size 432x288 with 1 Axes>"
      ]
     },
     "metadata": {
      "needs_background": "light"
     },
     "output_type": "display_data"
    },
    {
     "data": {
      "text/plain": [
       "<sympy.plotting.plot.Plot at 0x7fb7fe529c88>"
      ]
     },
     "execution_count": 14,
     "metadata": {},
     "output_type": "execute_result"
    }
   ],
   "source": [
    "plot(f(x), ylim=(-4,4))"
   ]
  },
  {
   "cell_type": "code",
   "execution_count": 15,
   "metadata": {},
   "outputs": [],
   "source": [
    "#---------------------Exo 2 ----------------------#"
   ]
  },
  {
   "cell_type": "code",
   "execution_count": 16,
   "metadata": {},
   "outputs": [
    {
     "data": {
      "image/png": "[encoded data removed]",
      "text/latex": [
       "$$\\left [ -10, \\quad -9, \\quad -8, \\quad -7, \\quad -6, \\quad -5, \\quad -4, \\quad -3, \\quad -2, \\quad -1, \\quad 0, \\quad 1, \\quad 2\\right ]$$"
      ],
      "text/plain": [
       "[-10, -9, -8, -7, -6, -5, -4, -3, -2, -1, 0, 1, 2]"
      ]
     },
     "execution_count": 16,
     "metadata": {},
     "output_type": "execute_result"
    }
   ],
   "source": [
    "[ i for i in range(-10, 3)] #2.1"
   ]
  },
  {
   "cell_type": "code",
   "execution_count": 17,
   "metadata": {},
   "outputs": [
    {
     "data": {
      "image/png": "[encoded data removed]",
      "text/latex": [
       "$$\\left [ \\frac{1}{4}, \\quad \\frac{1}{6}, \\quad \\frac{1}{8}, \\quad \\frac{1}{10}, \\quad \\frac{1}{12}\\right ]$$"
      ],
      "text/plain": [
       "[1/4, 1/6, 1/8, 1/10, 1/12]"
      ]
     },
     "execution_count": 17,
     "metadata": {},
     "output_type": "execute_result"
    }
   ],
   "source": [
    "list(map(lambda x : Rational(1,x), [i for i in range(4,13,2)])) #2.2"
   ]
  },
  {
   "cell_type": "code",
   "execution_count": 18,
   "metadata": {},
   "outputs": [
    {
     "data": {
      "image/png": "[encoded data removed]",
      "text/latex": [
       "$$\\left [ 1, \\quad 1, \\quad 1, \\quad 1, \\quad 1, \\quad 1\\right ]$$"
      ],
      "text/plain": [
       "[1, 1, 1, 1, 1, 1]"
      ]
     },
     "execution_count": 18,
     "metadata": {},
     "output_type": "execute_result"
    }
   ],
   "source": [
    "[1]*6 #2.3"
   ]
  },
  {
   "cell_type": "code",
   "execution_count": 19,
   "metadata": {},
   "outputs": [
    {
     "data": {
      "image/png": "[encoded data removed]",
      "text/latex": [
       "$$\\left [ - \\frac{1}{5}, \\quad \\frac{1}{10}, \\quad - \\frac{1}{15}, \\quad \\frac{1}{20}, \\quad - \\frac{1}{25}, \\quad \\frac{1}{30}\\right ]$$"
      ],
      "text/plain": [
       "[-1/5, 1/10, -1/15, 1/20, -1/25, 1/30]"
      ]
     },
     "execution_count": 19,
     "metadata": {},
     "output_type": "execute_result"
    }
   ],
   "source": [
    "list(map(lambda x : Rational(1,x), [((-1)**i)*5*i for i in range(1,7)])) #2.4"
   ]
  },
  {
   "cell_type": "code",
   "execution_count": 20,
   "metadata": {},
   "outputs": [
    {
     "data": {
      "image/png": "[encoded data removed]",
      "text/latex": [
       "$$\\left [ 1, \\quad e, \\quad e^{2}, \\quad e^{3}, \\quad e^{4}, \\quad e^{5}\\right ]$$"
      ],
      "text/plain": [
       "⎡       2   3   4   5⎤\n",
       "⎣1, ℯ, ℯ , ℯ , ℯ , ℯ ⎦"
      ]
     },
     "execution_count": 20,
     "metadata": {},
     "output_type": "execute_result"
    }
   ],
   "source": [
    "[ E**i for i in range(6)] #2.5"
   ]
  },
  {
   "cell_type": "code",
   "execution_count": 21,
   "metadata": {},
   "outputs": [],
   "source": [
    "#---------------------Exo 3 ----------------------#\n",
    "x, y = symbols(\"x y\")"
   ]
  },
  {
   "cell_type": "code",
   "execution_count": 24,
   "metadata": {},
   "outputs": [
    {
     "data": {
      "image/png": "[encoded data removed]",
      "text/plain": [
       "<Figure size 432x288 with 1 Axes>"
      ]
     },
     "metadata": {
      "needs_background": "light"
     },
     "output_type": "display_data"
    },
    {
     "name": "stdout",
     "output_type": "stream",
     "text": [
      "y*Derivative(x**2 + x + 1, (x, y))\n"
     ]
    }
   ],
   "source": [
    "# Chaque ligne correspond à une question de l'exo (dans l'ordre) #\n",
    "f = lambdify(x, simplify(\"(x**2)+x+1\"))\n",
    "deriv = diff(f(x),x)\n",
    "g = lambdify((x,y), f(x) * y)\n",
    "derivg = diff(g(x,y), (x,y))\n",
    "derivg_x = diff(g(x,y), x)\n",
    "derivg_y = diff(g(x,y), y)\n",
    "primtive_f = integrate(f(x),x)\n",
    "integrale = integrate(f(x),(x,0,2))\n",
    "plot(f(x),(x,-1,0))\n",
    "solve(Eq(f(x),0),x)\n",
    "print(derivg)"
   ]
  },
  {
   "cell_type": "code",
   "execution_count": 23,
   "metadata": {},
   "outputs": [],
   "source": [
    "## Pas de racines réelles pour la fonction f ."
   ]
  }
 ],
 "metadata": {
  "kernelspec": {
   "display_name": "Python 3",
   "language": "python",
   "name": "python3"
  },
  "language_info": {
   "codemirror_mode": {
    "name": "ipython",
    "version": 3
   },
   "file_extension": ".py",
   "mimetype": "text/x-python",
   "name": "python",
   "nbconvert_exporter": "python",
   "pygments_lexer": "ipython3",
   "version": "3.6.6"
  }
 },
 "nbformat": 4,
 "nbformat_minor": 2
}
